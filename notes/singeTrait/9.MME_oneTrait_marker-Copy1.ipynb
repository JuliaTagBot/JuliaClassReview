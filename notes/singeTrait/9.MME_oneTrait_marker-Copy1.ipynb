{
 "cells": [
  {
   "cell_type": "markdown",
   "metadata": {},
   "source": [
    "## Module for building Henderson's Mixed Model Equations for single trait including marker  and polygenic effect\n",
    "\n"
   ]
  },
  {
   "cell_type": "markdown",
   "metadata": {},
   "source": [
    "### Data set to test the module"
   ]
  },
  {
   "cell_type": "code",
   "execution_count": 1,
   "metadata": {
    "collapsed": true
   },
   "outputs": [],
   "source": [
    "using DataFrames\n",
    "using Distributions"
   ]
  },
  {
   "cell_type": "code",
   "execution_count": 2,
   "metadata": {
    "collapsed": false
   },
   "outputs": [],
   "source": [
    "FILE = \"../../data/small.ped\";"
   ]
  },
  {
   "cell_type": "code",
   "execution_count": 11,
   "metadata": {
    "collapsed": false
   },
   "outputs": [],
   "source": [
    "Animal = [\"S1\",\"D1\",\"O1\",\"O3\"]\n",
    "y = [100.0, 50.0, 150.0, 40.0];\n",
    "df = DataFrame(Animal=Animal,y=y);"
   ]
  },
  {
   "cell_type": "code",
   "execution_count": 12,
   "metadata": {
    "collapsed": false
   },
   "outputs": [],
   "source": [
    "srand(123)\n",
    "d = Binomial(2,0.5)\n",
    "nObs     = 4\n",
    "nMarkers = 5\n",
    "M        = float(rand(d,(nObs,nMarkers)));"
   ]
  },
  {
   "cell_type": "code",
   "execution_count": 13,
   "metadata": {
    "collapsed": false
   },
   "outputs": [
    {
     "data": {
      "text/html": [
       "<table class=\"data-frame\"><tr><th></th><th>Animal</th><th>y</th><th>x1</th><th>x2</th><th>x3</th><th>x4</th><th>x5</th></tr><tr><th>1</th><td>S1</td><td>100.0</td><td>1.0</td><td>0.0</td><td>1.0</td><td>1.0</td><td>1.0</td></tr><tr><th>2</th><td>D1</td><td>50.0</td><td>2.0</td><td>0.0</td><td>2.0</td><td>2.0</td><td>1.0</td></tr><tr><th>3</th><td>O1</td><td>150.0</td><td>1.0</td><td>2.0</td><td>0.0</td><td>1.0</td><td>0.0</td></tr><tr><th>4</th><td>O3</td><td>40.0</td><td>0.0</td><td>0.0</td><td>2.0</td><td>1.0</td><td>1.0</td></tr></table>"
      ],
      "text/plain": [
       "4x7 DataFrames.DataFrame\n",
       "| Row | Animal | y     | x1  | x2  | x3  | x4  | x5  |\n",
       "|-----|--------|-------|-----|-----|-----|-----|-----|\n",
       "| 1   | \"S1\"   | 100.0 | 1.0 | 0.0 | 1.0 | 1.0 | 1.0 |\n",
       "| 2   | \"D1\"   | 50.0  | 2.0 | 0.0 | 2.0 | 2.0 | 1.0 |\n",
       "| 3   | \"O1\"   | 150.0 | 1.0 | 2.0 | 0.0 | 1.0 | 0.0 |\n",
       "| 4   | \"O3\"   | 40.0  | 0.0 | 0.0 | 2.0 | 1.0 | 1.0 |"
      ]
     },
     "execution_count": 13,
     "metadata": {},
     "output_type": "execute_result"
    }
   ],
   "source": [
    "df=[df DataFrame(M)]"
   ]
  },
  {
   "cell_type": "markdown",
   "metadata": {},
   "source": [
    "### <font color=\"red\"> Run module</font>"
   ]
  },
  {
   "cell_type": "code",
   "execution_count": 14,
   "metadata": {
    "collapsed": false
   },
   "outputs": [],
   "source": [
    "MODULE_PATH=\"../../Module/MME.jl\";"
   ]
  },
  {
   "cell_type": "code",
   "execution_count": 15,
   "metadata": {
    "collapsed": false
   },
   "outputs": [
    {
     "name": "stderr",
     "output_type": "stream",
     "text": [
      "WARNING: replacing module MMEModule\n"
     ]
    }
   ],
   "source": [
    "include(MODULE_PATH);"
   ]
  },
  {
   "cell_type": "code",
   "execution_count": 16,
   "metadata": {
    "collapsed": false
   },
   "outputs": [],
   "source": [
    "ped = PedModule.mkPed(FILE);"
   ]
  },
  {
   "cell_type": "code",
   "execution_count": 41,
   "metadata": {
    "collapsed": true
   },
   "outputs": [],
   "source": [
    "mme = MMEModule.initMME(\"y = intercept + Animal\")\n",
    "varg=1.0*0.5\n",
    "vare=5.0\n",
    "λ1 = varg/vare\n",
    "G = reshape([λ1],1,1)\n",
    "MMEModule.setAsRandom(mme,\"Animal\",ped,G)"
   ]
  },
  {
   "cell_type": "code",
   "execution_count": 42,
   "metadata": {
    "collapsed": false
   },
   "outputs": [
    {
     "data": {
      "text/plain": [
       "6x2 Array{Any,2}:\n",
       " \"intercept: intercept\"  84.7563     \n",
       " \"Animal: S1\"             2.27265    \n",
       " \"Animal: D1\"            -2.27295    \n",
       " \"Animal: O1\"             3.1067     \n",
       " \"Animal: O3\"            -2.1314     \n",
       " \"Animal: O2\"            -0.000149061"
      ]
     },
     "execution_count": 42,
     "metadata": {},
     "output_type": "execute_result"
    }
   ],
   "source": [
    "resG = MMEModule.getSolG(mme,df,outFreq=100)"
   ]
  },
  {
   "cell_type": "code",
   "execution_count": 40,
   "metadata": {
    "collapsed": false
   },
   "outputs": [
    {
     "data": {
      "text/plain": [
       "1x1 Array{Float64,2}:\n",
       " 0.1"
      ]
     },
     "execution_count": 40,
     "metadata": {},
     "output_type": "execute_result"
    }
   ],
   "source": [
    "mme.Gi"
   ]
  },
  {
   "cell_type": "markdown",
   "metadata": {},
   "source": [
    "### add marker information"
   ]
  },
  {
   "cell_type": "code",
   "execution_count": 19,
   "metadata": {
    "collapsed": false
   },
   "outputs": [],
   "source": [
    "MMEModule.addMarkers(mme,df[:,3:7]);"
   ]
  },
  {
   "cell_type": "code",
   "execution_count": 32,
   "metadata": {
    "collapsed": false
   },
   "outputs": [
    {
     "data": {
      "text/plain": [
       "4-element Array{Float64,1}:\n",
       " 100.0\n",
       "  50.0\n",
       " 150.0\n",
       "  40.0"
      ]
     },
     "execution_count": 32,
     "metadata": {},
     "output_type": "execute_result"
    }
   ],
   "source": [
    "vec(full(mme.ySparse))"
   ]
  },
  {
   "cell_type": "code",
   "execution_count": 24,
   "metadata": {
    "collapsed": false
   },
   "outputs": [
    {
     "data": {
      "text/plain": [
       "6x6 Array{Float64,2}:\n",
       " 4.0   1.0    1.0    1.0   1.0   0.0\n",
       " 1.0   2.25   0.75  -0.5  -0.5  -0.5\n",
       " 1.0   0.75   2.25  -0.5  -0.5  -0.5\n",
       " 1.0  -0.5   -0.5    2.0   0.0   0.0\n",
       " 1.0  -0.5   -0.5    0.0   2.0   0.0\n",
       " 0.0  -0.5   -0.5    0.0   0.0   1.0"
      ]
     },
     "execution_count": 24,
     "metadata": {},
     "output_type": "execute_result"
    }
   ],
   "source": [
    "lhs=full(mme.mmeLhs)"
   ]
  },
  {
   "cell_type": "code",
   "execution_count": 25,
   "metadata": {
    "collapsed": false
   },
   "outputs": [
    {
     "data": {
      "text/plain": [
       "4x5 Array{Float64,2}:\n",
       " 1.0  0.0  1.0  1.0  1.0\n",
       " 2.0  0.0  2.0  2.0  1.0\n",
       " 1.0  2.0  0.0  1.0  0.0\n",
       " 0.0  0.0  2.0  1.0  1.0"
      ]
     },
     "execution_count": 25,
     "metadata": {},
     "output_type": "execute_result"
    }
   ],
   "source": [
    "M=mme.M"
   ]
  },
  {
   "cell_type": "code",
   "execution_count": 30,
   "metadata": {
    "collapsed": false
   },
   "outputs": [
    {
     "data": {
      "text/plain": [
       "10.0"
      ]
     },
     "execution_count": 30,
     "metadata": {},
     "output_type": "execute_result"
    }
   ],
   "source": [
    "vRes = 1.0\n",
    "vEff = 1.0*0.5/5 #c\n",
    "λ=vRes/vEff"
   ]
  },
  {
   "cell_type": "code",
   "execution_count": 29,
   "metadata": {
    "collapsed": false
   },
   "outputs": [
    {
     "data": {
      "text/plain": [
       "6x6 Array{Float64,2}:\n",
       " 4.0  1.0  1.0  1.0  1.0  0.0\n",
       " 1.0  1.0  0.0  0.0  0.0  0.0\n",
       " 1.0  0.0  1.0  0.0  0.0  0.0\n",
       " 1.0  0.0  0.0  1.0  0.0  0.0\n",
       " 1.0  0.0  0.0  0.0  1.0  0.0\n",
       " 0.0  0.0  0.0  0.0  0.0  0.0"
      ]
     },
     "execution_count": 29,
     "metadata": {},
     "output_type": "execute_result"
    }
   ],
   "source": [
    "full(mme.X'mme.X)"
   ]
  },
  {
   "cell_type": "code",
   "execution_count": 32,
   "metadata": {
    "collapsed": false
   },
   "outputs": [
    {
     "data": {
      "text/plain": [
       "11x11 Array{Float64,2}:\n",
       " 4.0   1.0    1.0    1.0   1.0   0.0   4.0   2.0   5.0   5.0   3.0\n",
       " 1.0   2.25   0.75  -0.5  -0.5  -0.5   1.0   0.0   1.0   1.0   1.0\n",
       " 1.0   0.75   2.25  -0.5  -0.5  -0.5   2.0   0.0   2.0   2.0   1.0\n",
       " 1.0  -0.5   -0.5    2.0   0.0   0.0   1.0   2.0   0.0   1.0   0.0\n",
       " 1.0  -0.5   -0.5    0.0   2.0   0.0   0.0   0.0   2.0   1.0   1.0\n",
       " 0.0  -0.5   -0.5    0.0   0.0   1.0   0.0   0.0   0.0   0.0   0.0\n",
       " 4.0   1.0    2.0    1.0   0.0   0.0  16.0   2.0   5.0   6.0   3.0\n",
       " 2.0   0.0    0.0    2.0   0.0   0.0   2.0  14.0   0.0   2.0   0.0\n",
       " 5.0   1.0    2.0    0.0   2.0   0.0   5.0   0.0  19.0   7.0   5.0\n",
       " 5.0   1.0    2.0    1.0   1.0   0.0   6.0   2.0   7.0  17.0   4.0\n",
       " 3.0   1.0    1.0    0.0   1.0   0.0   3.0   0.0   5.0   4.0  13.0"
      ]
     },
     "execution_count": 32,
     "metadata": {},
     "output_type": "execute_result"
    }
   ],
   "source": [
    "lhs2=[lhs mme.X'M\n",
    "    M'mme.X M'M+eye(size(M,2))*λ]"
   ]
  },
  {
   "cell_type": "code",
   "execution_count": 34,
   "metadata": {
    "collapsed": false
   },
   "outputs": [
    {
     "data": {
      "text/plain": [
       "11x1 Array{Float64,2}:\n",
       " 340.0\n",
       " 100.0\n",
       "  50.0\n",
       " 150.0\n",
       "  40.0\n",
       "   0.0\n",
       " 350.0\n",
       " 300.0\n",
       " 280.0\n",
       " 390.0\n",
       " 190.0"
      ]
     },
     "execution_count": 34,
     "metadata": {},
     "output_type": "execute_result"
    }
   ],
   "source": [
    "y=mme.ySparse\n",
    "rhs=[mme.X'y\n",
    "     M'y]"
   ]
  },
  {
   "cell_type": "code",
   "execution_count": 37,
   "metadata": {
    "collapsed": false
   },
   "outputs": [
    {
     "name": "stdout",
     "output_type": "stream",
     "text": [
      "at sample: 10000\n",
      "at sample: 20000\n",
      "at sample: 30000\n",
      "at sample: 40000"
     ]
    },
    {
     "data": {
      "text/plain": [
       "11-element Array{Float64,1}:\n",
       "  89.9693    \n",
       "  14.728     \n",
       " -14.7234    \n",
       "  25.1934    \n",
       " -17.7709    \n",
       "   0.00488876\n",
       "   0.671616  \n",
       "   5.03858   \n",
       "  -5.40019   \n",
       "  -1.10396   \n",
       "  -2.51771   "
      ]
     },
     "execution_count": 37,
     "metadata": {},
     "output_type": "execute_result"
    },
    {
     "name": "stdout",
     "output_type": "stream",
     "text": [
      "\n",
      "at sample: 50000\n"
     ]
    }
   ],
   "source": [
    "sol = fill(0.0,size(lhs2,2));\n",
    "res1=MMEModule.Gibbs(lhs2,sol,rhs,50000,outFreq=10000)"
   ]
  },
  {
   "cell_type": "code",
   "execution_count": 154,
   "metadata": {
    "collapsed": false
   },
   "outputs": [
    {
     "name": "stdout",
     "output_type": "stream",
     "text": [
      "10 "
     ]
    },
    {
     "data": {
      "text/plain": [
       "11-element Array{Float64,1}:\n",
       "  84.9652 \n",
       "   5.09672\n",
       " -11.4662 \n",
       "  20.1023 \n",
       " -13.7329 \n",
       "   0.0    \n",
       "   3.00111\n",
       "   2.74656\n",
       "  -2.29328\n",
       "  -2.74666\n",
       "   1.01918"
      ]
     },
     "execution_count": 154,
     "metadata": {},
     "output_type": "execute_result"
    },
    {
     "name": "stdout",
     "output_type": "stream",
     "text": [
      "0.00026709575586159853\n"
     ]
    }
   ],
   "source": [
    "sol = fill(0.0,size(lhs,1));\n",
    "MMEModule.GaussSeidel(lhs,sol,rhs)"
   ]
  }
 ],
 "metadata": {
  "kernelspec": {
   "display_name": "Julia 0.4.0",
   "language": "julia",
   "name": "julia-0.4"
  },
  "language_info": {
   "file_extension": ".jl",
   "mimetype": "application/julia",
   "name": "julia",
   "version": "0.4.0"
  }
 },
 "nbformat": 4,
 "nbformat_minor": 0
}
