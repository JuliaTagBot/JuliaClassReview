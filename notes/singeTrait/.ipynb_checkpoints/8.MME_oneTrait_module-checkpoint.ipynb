{
 "cells": [
  {
   "cell_type": "markdown",
   "metadata": {},
   "source": [
    "## Module for building Henderson's Mixed Model Equations for single trait\n",
    "\n"
   ]
  },
  {
   "cell_type": "markdown",
   "metadata": {},
   "source": [
    "### Data set to test the module"
   ]
  },
  {
   "cell_type": "code",
   "execution_count": 1,
   "metadata": {
    "collapsed": true
   },
   "outputs": [],
   "source": [
    "using DataFrames"
   ]
  },
  {
   "cell_type": "code",
   "execution_count": 2,
   "metadata": {
    "collapsed": false
   },
   "outputs": [],
   "source": [
    "FILE = \"../../data/small.ped\";"
   ]
  },
  {
   "cell_type": "code",
   "execution_count": 3,
   "metadata": {
    "collapsed": false
   },
   "outputs": [],
   "source": [
    "B = [\"S1\",\"D1\",\"O1\",\"O3\"]\n",
    "Animal = repeat(B,inner=[3])\n",
    "Age = repmat([1,2,3],4)\n",
    "intercept = ones(12,1)\n",
    "df = DataFrame(Animal=Animal,Age=Age,y=randn(12));"
   ]
  },
  {
   "cell_type": "markdown",
   "metadata": {},
   "source": [
    "### <font color=\"red\"> Run module</font>"
   ]
  },
  {
   "cell_type": "code",
   "execution_count": 4,
   "metadata": {
    "collapsed": false
   },
   "outputs": [],
   "source": [
    "MODULE_PATH=\"/Users/haocheng/Github/JuliaClassReview/Module/MME.jl\";"
   ]
  },
  {
   "cell_type": "code",
   "execution_count": 5,
   "metadata": {
    "collapsed": false
   },
   "outputs": [
    {
     "data": {
      "text/plain": [
       "MMEModule"
      ]
     },
     "execution_count": 5,
     "metadata": {},
     "output_type": "execute_result"
    }
   ],
   "source": [
    "include(MODULE_PATH)"
   ]
  },
  {
   "cell_type": "code",
   "execution_count": 6,
   "metadata": {
    "collapsed": false
   },
   "outputs": [],
   "source": [
    "ped = PedModule.mkPed(FILE);"
   ]
  },
  {
   "cell_type": "code",
   "execution_count": 8,
   "metadata": {
    "collapsed": false,
    "scrolled": true
   },
   "outputs": [
    {
     "name": "stdout",
     "output_type": "stream",
     "text": [
      "10 0.005135024980470721\n",
      "20 0.002675890382234062\n",
      "30 0.001753617046604267\n",
      "40 0.0011280385234940522\n",
      "50 0.0006897823700781646\n",
      "60 0.00039922143666532695\n",
      "70 0.0002191599537553282\n",
      "80 0.00011447665239274174\n",
      "90 5.703718260662739e-5\n",
      "100 2.714422151938317e-5\n",
      "110 1.2340656619515174e-5\n",
      "120 5.35391858780737e-6\n",
      "130 2.2116002192136723e-6\n"
     ]
    }
   ],
   "source": [
    "varRes=1.0\n",
    "mme = MMEModule.initMME(\"y = intercept + Age + Animal + Animal*Age\",varRes)\n",
    "MMEModule.covList(mme,\"Age\")\n",
    "G = [1 0.1; 0.1 1.0]\n",
    "MMEModule.setAsRandom(mme,\"Animal Animal*Age\",ped,G)\n",
    "resG = MMEModule.getSolG(mme,df);"
   ]
  }
 ],
 "metadata": {
  "kernelspec": {
   "display_name": "Julia 0.4.0",
   "language": "julia",
   "name": "julia-0.4"
  },
  "language_info": {
   "file_extension": ".jl",
   "mimetype": "application/julia",
   "name": "julia",
   "version": "0.4.0"
  }
 },
 "nbformat": 4,
 "nbformat_minor": 0
}
