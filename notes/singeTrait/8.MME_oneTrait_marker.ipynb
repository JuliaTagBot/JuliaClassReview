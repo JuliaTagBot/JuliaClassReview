{
 "cells": [
  {
   "cell_type": "markdown",
   "metadata": {},
   "source": [
    "## Module for building Henderson's Mixed Model Equations for single trait including marker information and polygenic effect\n",
    "\n"
   ]
  },
  {
   "cell_type": "markdown",
   "metadata": {},
   "source": [
    "### Data set to test the module"
   ]
  },
  {
   "cell_type": "code",
   "execution_count": 1,
   "metadata": {
    "collapsed": true
   },
   "outputs": [],
   "source": [
    "using DataFrames\n",
    "using Distributions"
   ]
  },
  {
   "cell_type": "code",
   "execution_count": 2,
   "metadata": {
    "collapsed": false
   },
   "outputs": [],
   "source": [
    "FILE = \"../../data/small.ped\";"
   ]
  },
  {
   "cell_type": "code",
   "execution_count": 3,
   "metadata": {
    "collapsed": false
   },
   "outputs": [],
   "source": [
    "Animal = [\"S1\",\"D1\",\"O1\",\"O3\"]\n",
    "y = [100.0, 50.0, 150.0, 40.0];\n",
    "df = DataFrame(Animal=Animal,y=y);"
   ]
  },
  {
   "cell_type": "code",
   "execution_count": 4,
   "metadata": {
    "collapsed": false
   },
   "outputs": [],
   "source": [
    "d = Binomial(2,0.5)\n",
    "nObs     = 4\n",
    "nMarkers = 5\n",
    "M        = float(rand(d,(nObs,nMarkers)));"
   ]
  },
  {
   "cell_type": "code",
   "execution_count": 5,
   "metadata": {
    "collapsed": false
   },
   "outputs": [
    {
     "data": {
      "text/html": [
       "<table class=\"data-frame\"><tr><th></th><th>Animal</th><th>y</th><th>x1</th><th>x2</th><th>x3</th><th>x4</th><th>x5</th></tr><tr><th>1</th><td>S1</td><td>100.0</td><td>2.0</td><td>1.0</td><td>1.0</td><td>2.0</td><td>0.0</td></tr><tr><th>2</th><td>D1</td><td>50.0</td><td>2.0</td><td>0.0</td><td>1.0</td><td>2.0</td><td>2.0</td></tr><tr><th>3</th><td>O1</td><td>150.0</td><td>2.0</td><td>0.0</td><td>0.0</td><td>0.0</td><td>0.0</td></tr><tr><th>4</th><td>O3</td><td>40.0</td><td>1.0</td><td>0.0</td><td>0.0</td><td>0.0</td><td>1.0</td></tr></table>"
      ],
      "text/plain": [
       "4x7 DataFrames.DataFrame\n",
       "| Row | Animal | y     | x1  | x2  | x3  | x4  | x5  |\n",
       "|-----|--------|-------|-----|-----|-----|-----|-----|\n",
       "| 1   | \"S1\"   | 100.0 | 2.0 | 1.0 | 1.0 | 2.0 | 0.0 |\n",
       "| 2   | \"D1\"   | 50.0  | 2.0 | 0.0 | 1.0 | 2.0 | 2.0 |\n",
       "| 3   | \"O1\"   | 150.0 | 2.0 | 0.0 | 0.0 | 0.0 | 0.0 |\n",
       "| 4   | \"O3\"   | 40.0  | 1.0 | 0.0 | 0.0 | 0.0 | 1.0 |"
      ]
     },
     "execution_count": 5,
     "metadata": {},
     "output_type": "execute_result"
    }
   ],
   "source": [
    "df=[df DataFrame(M)]"
   ]
  },
  {
   "cell_type": "markdown",
   "metadata": {},
   "source": [
    "### <font color=\"red\"> Run module</font>"
   ]
  },
  {
   "cell_type": "code",
   "execution_count": 6,
   "metadata": {
    "collapsed": false
   },
   "outputs": [],
   "source": [
    "MODULE_PATH=\"../../Module/MME.jl\";"
   ]
  },
  {
   "cell_type": "code",
   "execution_count": 7,
   "metadata": {
    "collapsed": false
   },
   "outputs": [],
   "source": [
    "include(MODULE_PATH);"
   ]
  },
  {
   "cell_type": "code",
   "execution_count": 8,
   "metadata": {
    "collapsed": false
   },
   "outputs": [],
   "source": [
    "ped = PedModule.mkPed(FILE);"
   ]
  },
  {
   "cell_type": "code",
   "execution_count": 9,
   "metadata": {
    "collapsed": true
   },
   "outputs": [],
   "source": [
    "mme = MMEModule.initMME(\"y = intercept + Animal\")\n",
    "varg=1.0\n",
    "vare=1.0\n",
    "λ1 = vare/varg\n",
    "G = reshape([λ1],1,1)\n",
    "MMEModule.setAsRandom(mme,\"Animal\",ped,G)"
   ]
  },
  {
   "cell_type": "code",
   "execution_count": 11,
   "metadata": {
    "collapsed": false
   },
   "outputs": [
    {
     "ename": "LoadError",
     "evalue": "LoadError: BoundsError\nwhile loading In[11], in expression starting on line 1",
     "output_type": "error",
     "traceback": [
      "LoadError: BoundsError\nwhile loading In[11], in expression starting on line 1",
      "",
      " in getindex at sparse/sparsematrix.jl:1454",
      " in addA at /Users/haocheng/Github/JuliaClassReview/Module/functions.jl:190",
      " in getMME at /Users/haocheng/Github/JuliaClassReview/Module/functions.jl:168"
     ]
    }
   ],
   "source": [
    "MMEModule.getMME(mme,df)"
   ]
  },
  {
   "cell_type": "code",
   "execution_count": null,
   "metadata": {
    "collapsed": false
   },
   "outputs": [],
   "source": [
    "resG = MMEModule.getSolG(mme,df)"
   ]
  },
  {
   "cell_type": "markdown",
   "metadata": {},
   "source": [
    "### Gibbs"
   ]
  },
  {
   "cell_type": "code",
   "execution_count": null,
   "metadata": {
    "collapsed": false
   },
   "outputs": [],
   "source": [
    "sol = fill(0.0,size(mme.mmeLhs,1));"
   ]
  },
  {
   "cell_type": "code",
   "execution_count": null,
   "metadata": {
    "collapsed": false
   },
   "outputs": [],
   "source": [
    "res1=MMEModule.Gibbs(mme.mmeLhs,sol,mme.mmeRhs,50000,outFreq=10000)"
   ]
  },
  {
   "cell_type": "markdown",
   "metadata": {},
   "source": [
    "### add marker information"
   ]
  },
  {
   "cell_type": "code",
   "execution_count": 16,
   "metadata": {
    "collapsed": false
   },
   "outputs": [],
   "source": [
    "MMEModule.addMarkers(mme,df[:,3:7]);"
   ]
  },
  {
   "cell_type": "code",
   "execution_count": 17,
   "metadata": {
    "collapsed": false
   },
   "outputs": [
    {
     "data": {
      "text/plain": [
       "4x5 Array{Float64,2}:\n",
       " 2.0  1.0  1.0  2.0  0.0\n",
       " 2.0  0.0  1.0  2.0  2.0\n",
       " 2.0  0.0  0.0  0.0  0.0\n",
       " 1.0  0.0  0.0  0.0  1.0"
      ]
     },
     "execution_count": 17,
     "metadata": {},
     "output_type": "execute_result"
    }
   ],
   "source": [
    "mme.M"
   ]
  },
  {
   "cell_type": "code",
   "execution_count": 46,
   "metadata": {
    "collapsed": false
   },
   "outputs": [
    {
     "data": {
      "text/plain": [
       "sampleMCMC (generic function with 1 method)"
      ]
     },
     "execution_count": 46,
     "metadata": {},
     "output_type": "execute_result"
    }
   ],
   "source": [
    "function sampleMCMC(nIter,mme,df;outFreq=100)\n",
    "    vRes = 1.0\n",
    "    vEff = 1.0   \n",
    "    if size(mme.mmeRhs)==() \n",
    "        MMEModule.getMME(mme,df)\n",
    "    end\n",
    "    p = size(mme.mmeLhs,1)\n",
    "    sol = fill(0.0,p)\n",
    "    solMean = fill(0.0,p)\n",
    "\n",
    "    α  = zeros(Float64,size(mme.M,2))\n",
    "    meanAlpha = zeros(Float64,size(mme.M,2))\n",
    "    mArray = MMEModule.get_column_ref(mme.M)\n",
    "    mpm = [dot(mme.M[:,i],mme.M[:,i]) for i=1:size(mme.M,2)]   \n",
    "    ycorr = mme.ySparse \n",
    "    \n",
    "    for iter=1:nIter\n",
    "        #sample non-marker part\n",
    "        mme.ySparse = ycorr + mme.X*sol\n",
    "        mme.mmeRhs = mme.X'mme.ySparse\n",
    "        MMEModule.Gibbs(mme.mmeLhs,sol,mme.mmeRhs)\n",
    "        ycorr = mme.ySparse - mme.X*sol\n",
    "\n",
    "        solMean += (sol - solMean)/iter\n",
    "        \n",
    "        #sample marker\n",
    "        MMEModule.sample_effects_ycorr!(mme.M,mArray,mpm,vec(ycorr),α,meanAlpha,vRes,vEff,iter)\n",
    "        \n",
    "        if iter%outFreq==0\n",
    "            println(\"at sample: \",iter)\n",
    "        end\n",
    "    end\n",
    "    output = Dict()\n",
    "    output[\"posteriorMeanLocationParms\"] = solMean\n",
    "    output[\"posteriorMeanMarkerEffects\"] = meanAlpha\n",
    "    return output\n",
    "end"
   ]
  },
  {
   "cell_type": "code",
   "execution_count": 47,
   "metadata": {
    "collapsed": false
   },
   "outputs": [
    {
     "name": "stdout",
     "output_type": "stream",
     "text": [
      "at sample: 10"
     ]
    },
    {
     "data": {
      "text/plain": [
       "Dict{Any,Any} with 1 entry:\n",
       "  \"posteriorMeanLocationP… => [109.08282489786498,-9.627542044374989,-60.001480…"
      ]
     },
     "execution_count": 47,
     "metadata": {},
     "output_type": "execute_result"
    },
    {
     "name": "stdout",
     "output_type": "stream",
     "text": [
      "\n",
      "at sample: 20\n",
      "at sample: 30\n",
      "at sample: 40\n",
      "at sample: 50\n",
      "at sample: 60\n",
      "at sample: 70\n",
      "at sample: 80\n",
      "at sample: 90\n",
      "at sample: 100\n",
      "at sample: 110\n",
      "at sample: 120\n",
      "at sample: 130\n",
      "at sample: 140\n",
      "at sample: 150\n",
      "at sample: 160\n",
      "at sample: 170\n",
      "at sample: 180\n",
      "at sample: 190\n",
      "at sample: 200\n",
      "at sample: 210\n",
      "at sample: 220\n",
      "at sample: 230\n",
      "at sample: 240\n",
      "at sample: 250\n",
      "at sample: 260\n",
      "at sample: 270\n",
      "at sample: 280\n",
      "at sample: 290\n",
      "at sample: 300\n",
      "at sample: 310\n",
      "at sample: 320\n",
      "at sample: 330\n",
      "at sample: 340\n",
      "at sample: 350\n",
      "at sample: 360\n",
      "at sample: 370\n",
      "at sample: 380\n",
      "at sample: 390\n",
      "at sample: 400\n",
      "at sample: 410\n",
      "at sample: 420\n",
      "at sample: 430\n",
      "at sample: 440\n",
      "at sample: 450\n",
      "at sample: 460\n",
      "at sample: 470\n",
      "at sample: 480\n",
      "at sample: 490\n",
      "at sample: 500\n",
      "at sample: 510\n",
      "at sample: 520\n",
      "at sample: 530\n",
      "at sample: 540\n",
      "at sample: 550\n",
      "at sample: 560\n",
      "at sample: 570\n",
      "at sample: 580\n",
      "at sample: 590\n",
      "at sample: 600\n",
      "at sample: 610\n",
      "at sample: 620\n",
      "at sample: 630\n",
      "at sample: 640\n",
      "at sample: 650\n",
      "at sample: 660\n",
      "at sample: 670\n",
      "at sample: 680\n",
      "at sample: 690\n",
      "at sample: 700\n",
      "at sample: 710\n",
      "at sample: 720\n",
      "at sample: 730\n",
      "at sample: 740\n",
      "at sample: 750\n",
      "at sample: 760\n",
      "at sample: 770\n",
      "at sample: 780\n",
      "at sample: 790\n",
      "at sample: 800\n",
      "at sample: 810\n",
      "at sample: 820\n",
      "at sample: 830\n",
      "at sample: 840\n",
      "at sample: 850\n",
      "at sample: 860\n",
      "at sample: 870\n",
      "at sample: 880\n",
      "at sample: 890\n",
      "at sample: 900\n",
      "at sample: 910\n",
      "at sample: 920\n",
      "at sample: 930\n",
      "at sample: 940\n",
      "at sample: 950\n",
      "at sample: 960\n",
      "at sample: 970\n",
      "at sample: 980\n",
      "at sample: 990\n",
      "at sample: 1000\n"
     ]
    }
   ],
   "source": [
    "sampleMCMC(1000,mme,df,outFreq=10)"
   ]
  }
 ],
 "metadata": {
  "kernelspec": {
   "display_name": "Julia 0.4.0",
   "language": "julia",
   "name": "julia-0.4"
  },
  "language_info": {
   "file_extension": ".jl",
   "mimetype": "application/julia",
   "name": "julia",
   "version": "0.4.0"
  }
 },
 "nbformat": 4,
 "nbformat_minor": 0
}
