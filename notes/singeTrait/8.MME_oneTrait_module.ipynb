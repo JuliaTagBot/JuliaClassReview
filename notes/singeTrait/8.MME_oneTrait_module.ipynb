{
 "cells": [
  {
   "cell_type": "markdown",
   "metadata": {},
   "source": [
    "## Module for building Henderson's Mixed Model Equations for single trait\n",
    "\n"
   ]
  },
  {
   "cell_type": "markdown",
   "metadata": {},
   "source": [
    "### Data set to test the module"
   ]
  },
  {
   "cell_type": "code",
   "execution_count": 4,
   "metadata": {
    "collapsed": true
   },
   "outputs": [],
   "source": [
    "using DataFrames"
   ]
  },
  {
   "cell_type": "code",
   "execution_count": 5,
   "metadata": {
    "collapsed": false
   },
   "outputs": [],
   "source": [
    "FILE = \"../../data/small.ped\";"
   ]
  },
  {
   "cell_type": "code",
   "execution_count": 6,
   "metadata": {
    "collapsed": false
   },
   "outputs": [],
   "source": [
    "B = [\"S1\",\"D1\",\"O1\",\"O3\"]\n",
    "Animal = repeat(B,inner=[3])\n",
    "Age = repmat([1,2,3],4)\n",
    "intercept = ones(12,1)\n",
    "df = DataFrame(Animal=Animal,Age=Age,y=randn(12));"
   ]
  },
  {
   "cell_type": "markdown",
   "metadata": {},
   "source": [
    "### <font color=\"red\"> Run module</font>"
   ]
  },
  {
   "cell_type": "code",
   "execution_count": 1,
   "metadata": {
    "collapsed": false
   },
   "outputs": [],
   "source": [
    "MODULE_PATH=\"/Users/haocheng/Github/JuliaClassReview/Module/MME.jl\";"
   ]
  },
  {
   "cell_type": "code",
   "execution_count": 2,
   "metadata": {
    "collapsed": false
   },
   "outputs": [
    {
     "data": {
      "text/plain": [
       "MMEModule"
      ]
     },
     "execution_count": 2,
     "metadata": {},
     "output_type": "execute_result"
    }
   ],
   "source": [
    "include(MODULE_PATH)"
   ]
  },
  {
   "cell_type": "code",
   "execution_count": 7,
   "metadata": {
    "collapsed": false
   },
   "outputs": [],
   "source": [
    "ped = PedModule.mkPed(FILE);"
   ]
  },
  {
   "cell_type": "code",
   "execution_count": 9,
   "metadata": {
    "collapsed": false,
    "scrolled": true
   },
   "outputs": [
    {
     "name": "stdout",
     "output_type": "stream",
     "text": [
      "10 0.00021946328183908162\n",
      "20 0.0001514670629431754\n",
      "30 0.00010075344625409057\n",
      "40 6.471417885581071e-5\n",
      "50 3.947156089494017e-5\n",
      "60 2.2786909652845282e-5\n",
      "70 1.2479436707834837e-5\n",
      "80 6.503874855997148e-6\n",
      "90 3.2335077011580287e-6\n",
      "100 1.535566601845456e-6\n"
     ]
    }
   ],
   "source": [
    "mme = MMEModule.initMME(\"y = intercept + Age + Animal + Animal*Age\")\n",
    "MMEModule.covList(mme,\"Age\")\n",
    "G = [1 0.1; 0.1 1.0]\n",
    "MMEModule.setAsRandom(mme,\"Animal Animal*Age\",ped,G)\n",
    "resG = MMEModule.getSolG(mme,df);"
   ]
  }
 ],
 "metadata": {
  "kernelspec": {
   "display_name": "Julia 0.4.0",
   "language": "julia",
   "name": "julia-0.4"
  },
  "language_info": {
   "file_extension": ".jl",
   "mimetype": "application/julia",
   "name": "julia",
   "version": "0.4.0"
  }
 },
 "nbformat": 4,
 "nbformat_minor": 0
}
