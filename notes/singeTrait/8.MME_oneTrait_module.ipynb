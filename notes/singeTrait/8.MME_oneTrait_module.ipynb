{
 "cells": [
  {
   "cell_type": "markdown",
   "metadata": {},
   "source": [
    "## Module for building Henderson's Mixed Model Equations for single trait\n",
    "\n"
   ]
  },
  {
   "cell_type": "markdown",
   "metadata": {},
   "source": [
    "### Data set to test the module"
   ]
  },
  {
   "cell_type": "code",
   "execution_count": 1,
   "metadata": {
    "collapsed": true
   },
   "outputs": [],
   "source": [
    "using DataFrames"
   ]
  },
  {
   "cell_type": "code",
   "execution_count": 2,
   "metadata": {
    "collapsed": false
   },
   "outputs": [],
   "source": [
    "FILE = \"../../data/small.ped\";"
   ]
  },
  {
   "cell_type": "code",
   "execution_count": 3,
   "metadata": {
    "collapsed": false
   },
   "outputs": [],
   "source": [
    "B = [\"S1\",\"D1\",\"O1\",\"O3\"]\n",
    "Animal = repeat(B,inner=[3])\n",
    "Age = repmat([1,2,3],4)\n",
    "intercept = ones(12,1)\n",
    "df = DataFrame(Animal=Animal,Age=Age,y=randn(12));"
   ]
  },
  {
   "cell_type": "markdown",
   "metadata": {},
   "source": [
    "### <font color=\"red\"> Run module</font>"
   ]
  },
  {
   "cell_type": "code",
   "execution_count": 4,
   "metadata": {
    "collapsed": false
   },
   "outputs": [],
   "source": [
    "MODULE_PATH=\"/Users/haocheng/Github/JuliaClassReview/Module/MME.jl\";"
   ]
  },
  {
   "cell_type": "code",
   "execution_count": 5,
   "metadata": {
    "collapsed": false
   },
   "outputs": [
    {
     "name": "stderr",
     "output_type": "stream",
     "text": [
      "WARNING: Base.String is deprecated, use AbstractString instead.\n",
      "  likely near /Users/haocheng/.julia/v0.4/PedModule/src/PedModule.jl:189\n",
      "WARNING: Base.String is deprecated, use AbstractString instead.\n",
      "  likely near /Users/haocheng/.julia/v0.4/PedModule/src/PedModule.jl:209\n"
     ]
    },
    {
     "data": {
      "text/plain": [
       "MMEModule"
      ]
     },
     "execution_count": 5,
     "metadata": {},
     "output_type": "execute_result"
    }
   ],
   "source": [
    "include(MODULE_PATH)"
   ]
  },
  {
   "cell_type": "code",
   "execution_count": 6,
   "metadata": {
    "collapsed": false
   },
   "outputs": [],
   "source": [
    "ped = PedModule.mkPed(FILE);"
   ]
  },
  {
   "cell_type": "code",
   "execution_count": 7,
   "metadata": {
    "collapsed": false,
    "scrolled": true
   },
   "outputs": [
    {
     "name": "stdout",
     "output_type": "stream",
     "text": [
      "10 0.0019118708809054083\n",
      "20 0.0011625034392932162\n",
      "30 0.0007657133415785382\n",
      "40 0.0004976168818016082\n",
      "50 0.0003083477636270283\n",
      "60 0.0001808550072191415\n",
      "70 0.00010054251954979373\n",
      "80 5.314434704757417e-5\n",
      "90 2.678108503917523e-5\n",
      "100 1.2887866384421174e-5\n",
      "110 5.9252859970434805e-6\n",
      "120 2.60059659434219e-6\n",
      "130 1.0874691815247512e-6\n"
     ]
    }
   ],
   "source": [
    "mme = MMEModule.initMME(\"y = intercept + Age + Animal + Animal*Age\")\n",
    "MMEModule.covList(mme,\"Age\")\n",
    "G = [1 0.1; 0.1 1.0]\n",
    "MMEModule.setAsRandom(mme,\"Animal Animal*Age\",ped,G)\n",
    "resG = MMEModule.getSolG(mme,df);"
   ]
  }
 ],
 "metadata": {
  "kernelspec": {
   "display_name": "Julia 0.4.0",
   "language": "julia",
   "name": "julia-0.4"
  },
  "language_info": {
   "file_extension": ".jl",
   "mimetype": "application/julia",
   "name": "julia",
   "version": "0.4.0"
  }
 },
 "nbformat": 4,
 "nbformat_minor": 0
}
