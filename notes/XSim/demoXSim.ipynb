{
 "cells": [
  {
   "cell_type": "code",
   "execution_count": 1,
   "metadata": {
    "collapsed": false
   },
   "outputs": [],
   "source": [
    "#Pkg.rm(\"XSim\")\n",
    "#Pkg.clone(\"https://github.com/reworkhow/XSim.jl.git\")"
   ]
  },
  {
   "cell_type": "code",
   "execution_count": 1,
   "metadata": {
    "collapsed": false
   },
   "outputs": [],
   "source": [
    "using XSim"
   ]
  },
  {
   "cell_type": "markdown",
   "metadata": {},
   "source": [
    "### Initialize Genomic Information"
   ]
  },
  {
   "cell_type": "code",
   "execution_count": 3,
   "metadata": {
    "collapsed": false
   },
   "outputs": [],
   "source": [
    "using StatsBase\n",
    "numChr,numLoci,chrLength,mutRate = 2,10,0.1,0.0\n",
    "mapPos     = collect(0.005:0.01:0.1)\n",
    "geneFreq   = fill(0.5,numLoci)\n",
    "qtlMarker  = fill(false,numLoci)\n",
    "qtlMarker[sample(1:numLoci)]= true\n",
    "qtlEffects = randn(numLoci)\n",
    "XSim.init(numChr,numLoci,chrLength,geneFreq,mapPos,qtlMarker,qtlEffects,mutRate)"
   ]
  },
  {
   "cell_type": "markdown",
   "metadata": {},
   "source": [
    "### random mating"
   ]
  },
  {
   "cell_type": "code",
   "execution_count": 8,
   "metadata": {
    "collapsed": false
   },
   "outputs": [
    {
     "name": "stdout",
     "output_type": "stream",
     "text": [
      "Sampling 2 animals into base population.\n",
      "Sampling 2 animals into base population.\n",
      "Generation     2: sampling     5 males and     5 females\n",
      "Generation     3: sampling     5 males and     5 females\n",
      "Generation     4: sampling     5 males and     5 females\n",
      "Generation     5: sampling     5 males and     5 females\n",
      "Generation     6: sampling     5 males and     5 females\n"
     ]
    }
   ],
   "source": [
    "popSizeFounder = 2\n",
    "sires = sampleFounders(popSizeFounder)\n",
    "dams  = sampleFounders(popSizeFounder)\n",
    "\n",
    "#random mating\n",
    "ngen,popSize = 5,10\n",
    "sires1,dams1,gen1 = XSim.sampleRan(popSize, ngen, sires, dams);"
   ]
  },
  {
   "cell_type": "markdown",
   "metadata": {},
   "source": [
    "### selection"
   ]
  },
  {
   "cell_type": "code",
   "execution_count": 9,
   "metadata": {
    "collapsed": false
   },
   "outputs": [
    {
     "name": "stdout",
     "output_type": "stream",
     "text": [
      "Generation     2: sampling     5 males and     5 females\n",
      "Generation     3: sampling     5 males and     5 females\n",
      "Generation     4: sampling     5 males and     5 females\n",
      "Generation     5: sampling     5 males and     5 females\n",
      "Generation     6: sampling     5 males and     5 females\n"
     ]
    }
   ],
   "source": [
    "nSires,nDams = 2,2\n",
    "popSize,ngen = 10,5\n",
    "varRes = 1.0\n",
    "sire2,dam2,gen2=sampleSel(popSize, nSires, nDams, ngen,sires, dams, varRes);"
   ]
  },
  {
   "cell_type": "markdown",
   "metadata": {},
   "source": [
    "### sample from a pedigree"
   ]
  },
  {
   "cell_type": "code",
   "execution_count": 30,
   "metadata": {
    "collapsed": false
   },
   "outputs": [],
   "source": [
    "myPed=[1 0 0\n",
    "       2 0 0\n",
    "       3 0 0\n",
    "       4 0 0\n",
    "       5 1 2\n",
    "       6 3 4];"
   ]
  },
  {
   "cell_type": "code",
   "execution_count": 31,
   "metadata": {
    "collapsed": false
   },
   "outputs": [],
   "source": [
    "pedArray = Array(XSim.PedNode,size(myPed,1))\n",
    "for i in 1:size(myPed,1)\n",
    "    indi  = myPed[i,1]\n",
    "    sirei = myPed[i,2]\n",
    "    dami  = myPed[i,3]\n",
    "    pedArray[myPed[i,1]] = XSim.PedNode(indi,sirei,dami)\n",
    "end"
   ]
  },
  {
   "cell_type": "code",
   "execution_count": 8,
   "metadata": {
    "collapsed": false
   },
   "outputs": [
    {
     "data": {
      "text/plain": [
       "6-element Array{XSim.PedNode,1}:\n",
       " XSim.PedNode(1,0,0)\n",
       " XSim.PedNode(2,0,0)\n",
       " XSim.PedNode(3,0,0)\n",
       " XSim.PedNode(4,0,0)\n",
       " XSim.PedNode(5,1,2)\n",
       " XSim.PedNode(6,3,4)"
      ]
     },
     "execution_count": 8,
     "metadata": {},
     "output_type": "execute_result"
    }
   ],
   "source": [
    "pedArray"
   ]
  },
  {
   "cell_type": "code",
   "execution_count": 32,
   "metadata": {
    "collapsed": true
   },
   "outputs": [],
   "source": [
    "pedFounders=concatCohorts(sires,dams);"
   ]
  },
  {
   "cell_type": "code",
   "execution_count": 14,
   "metadata": {
    "collapsed": false
   },
   "outputs": [
    {
     "data": {
      "text/plain": [
       "6-element Array{XSim.PedNode,1}:\n",
       " XSim.PedNode(1,0,0)\n",
       " XSim.PedNode(2,0,0)\n",
       " XSim.PedNode(3,0,0)\n",
       " XSim.PedNode(4,0,0)\n",
       " XSim.PedNode(5,1,2)\n",
       " XSim.PedNode(6,3,4)"
      ]
     },
     "execution_count": 14,
     "metadata": {},
     "output_type": "execute_result"
    }
   ],
   "source": [
    "pedArray"
   ]
  },
  {
   "cell_type": "code",
   "execution_count": 42,
   "metadata": {
    "collapsed": true
   },
   "outputs": [],
   "source": [
    "# samplePed returns a Cohort of animals\n",
    "animals = samplePed(pedArray);"
   ]
  },
  {
   "cell_type": "markdown",
   "metadata": {},
   "source": [
    "### output"
   ]
  },
  {
   "cell_type": "code",
   "execution_count": 14,
   "metadata": {
    "collapsed": false
   },
   "outputs": [
    {
     "data": {
      "text/plain": [
       "5x20 Array{Int64,2}:\n",
       " 2  1  0  2  1  2  0  1  1  …  1  1  2  0  1  1  2  1   4550277264\n",
       " 1  1  1  1  1  2  0  0  2     1  0  1  1  0  2  1  1  13085551752\n",
       " 1  1  0  2  0  1  0  2  0     0  1  2  1  1  1  2  1   4552111488\n",
       " 1  1  1  1  1  2  0  0  2     2  0  0  1  1  1  0  1   9098609376\n",
       " 1  2  0  2  1  1  0  1  1     2  0  1  0  0  2  1  1   9029164512"
      ]
     },
     "execution_count": 14,
     "metadata": {},
     "output_type": "execute_result"
    }
   ],
   "source": [
    "M = getOurGenotypes(sire2)"
   ]
  },
  {
   "cell_type": "code",
   "execution_count": 11,
   "metadata": {
    "collapsed": false
   },
   "outputs": [
    {
     "data": {
      "text/plain": [
       "2-element Array{Float64,1}:\n",
       " 2.17478\n",
       " 3.00346"
      ]
     },
     "execution_count": 11,
     "metadata": {},
     "output_type": "execute_result"
    }
   ],
   "source": [
    "P = getOurPhenVals(sires,1.0) #residual variance is 1.0"
   ]
  },
  {
   "cell_type": "code",
   "execution_count": 12,
   "metadata": {
    "collapsed": true
   },
   "outputs": [],
   "source": [
    "outputHapData(sires, \"output.txt\")"
   ]
  },
  {
   "cell_type": "code",
   "execution_count": 13,
   "metadata": {
    "collapsed": false
   },
   "outputs": [
    {
     "name": "stdout",
     "output_type": "stream",
     "text": [
      "  animalID  p m p m p m p m p m p m p m p m p m p m p m p m p m p m p m p m p m p m p m p m\n",
      "         1  0 0 1 0 1 0 0 0 1 1 1 1 1 1 1 0 1 0 0 0 1 0 1 0 1 1 0 0 1 1 1 1 1 0 0 0 1 0 0 1\n",
      "         2  0 1 0 1 1 0 0 0 0 1 1 0 0 1 0 1 1 1 0 1 1 1 0 1 0 1 1 1 0 0 0 1 1 0 0 1 1 1 0 0\n"
     ]
    }
   ],
   "source": [
    ";cat output.txt"
   ]
  },
  {
   "cell_type": "code",
   "execution_count": 14,
   "metadata": {
    "collapsed": true
   },
   "outputs": [],
   "source": [
    "outputGenData(sires, \"output.txt\")"
   ]
  },
  {
   "cell_type": "code",
   "execution_count": 15,
   "metadata": {
    "collapsed": false
   },
   "outputs": [
    {
     "name": "stdout",
     "output_type": "stream",
     "text": [
      "  animalID        1        2        3        4        5        6        7        8        9       10       11       12       13       14       15       16       17       18       19       20 \n",
      "         1  -10   0   0 -10  10  10  10   0   0 -10   0   0  10 -10  10  10   0 -10   0   0\n",
      "         2    0   0   0 -10   0   0   0   0  10   0  10   0   0  10 -10   0   0   0  10 -10\n"
     ]
    }
   ],
   "source": [
    ";cat output.txt"
   ]
  },
  {
   "cell_type": "code",
   "execution_count": 20,
   "metadata": {
    "collapsed": false
   },
   "outputs": [],
   "source": [
    "XSim.outputCatData(\"output.txt\")"
   ]
  },
  {
   "cell_type": "code",
   "execution_count": 21,
   "metadata": {
    "collapsed": false
   },
   "outputs": [
    {
     "name": "stdout",
     "output_type": "stream",
     "text": [
      "BuildV1 Chr Pos Freq \n",
      "       1   1    1000000 0.5 \n",
      "       2   1    2000000 0.5 \n",
      "       3   1    3000000 0.5 \n",
      "       4   1    4000000 0.5 \n",
      "       5   1    5000000 0.5 \n",
      "       6   1    6000000 0.5 \n",
      "       7   1    7000000 0.5 \n",
      "       8   1    8000000 0.5 \n",
      "       9   1    9000000 0.5 \n",
      "      10   1   10000000 0.5 \n",
      "      11   2    1000000 0.5 \n",
      "      12   2    2000000 0.5 \n",
      "      13   2    3000000 0.5 \n",
      "      14   2    4000000 0.5 \n",
      "      15   2    5000000 0.5 \n",
      "      16   2    6000000 0.5 \n",
      "      17   2    7000000 0.5 \n",
      "      18   2    8000000 0.5 \n",
      "      19   2    9000000 0.5 \n",
      "      20   2   10000000 0.5 \n"
     ]
    }
   ],
   "source": [
    ";cat output.txt"
   ]
  },
  {
   "cell_type": "code",
   "execution_count": 22,
   "metadata": {
    "collapsed": true
   },
   "outputs": [],
   "source": [
    "outputPedigree(animals, \"output.txt\")"
   ]
  }
 ],
 "metadata": {
  "kernelspec": {
   "display_name": "Julia 0.4.0",
   "language": "julia",
   "name": "julia-0.4"
  },
  "language_info": {
   "file_extension": ".jl",
   "mimetype": "application/julia",
   "name": "julia",
   "version": "0.4.0"
  }
 },
 "nbformat": 4,
 "nbformat_minor": 0
}
