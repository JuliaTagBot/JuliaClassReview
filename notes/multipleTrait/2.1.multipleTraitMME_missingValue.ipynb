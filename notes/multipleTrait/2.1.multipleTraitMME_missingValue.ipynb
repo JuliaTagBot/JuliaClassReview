{
 "cells": [
  {
   "cell_type": "markdown",
   "metadata": {},
   "source": [
    "## Tools for building Henderson's Mixed Model Equations for multiple traits with missing data\n"
   ]
  },
  {
   "cell_type": "code",
   "execution_count": 44,
   "metadata": {
    "collapsed": false
   },
   "outputs": [],
   "source": [
    "using PedModule\n",
    "using DataFrames"
   ]
  },
  {
   "cell_type": "code",
   "execution_count": 45,
   "metadata": {
    "collapsed": false
   },
   "outputs": [
    {
     "data": {
      "text/html": [
       "<table class=\"data-frame\"><tr><th></th><th>y1</th><th>y2</th><th>y3</th><th>trt</th></tr><tr><th>1</th><td>1.0</td><td>2.0</td><td>1.2</td><td>1</td></tr><tr><th>2</th><td>1.1</td><td>NA</td><td>3.1</td><td>1</td></tr><tr><th>3</th><td>0.9</td><td>1.9</td><td>NA</td><td>2</td></tr><tr><th>4</th><td>1.2</td><td>1.7</td><td>1.9</td><td>2</td></tr></table>"
      ],
      "text/plain": [
       "4x4 DataFrames.DataFrame\n",
       "| Row | y1  | y2  | y3  | trt |\n",
       "|-----|-----|-----|-----|-----|\n",
       "| 1   | 1.0 | 2.0 | 1.2 | 1   |\n",
       "| 2   | 1.1 | NA  | 3.1 | 1   |\n",
       "| 3   | 0.9 | 1.9 | NA  | 2   |\n",
       "| 4   | 1.2 | 1.7 | 1.9 | 2   |"
      ]
     },
     "execution_count": 45,
     "metadata": {},
     "output_type": "execute_result"
    }
   ],
   "source": [
    "df = readtable(\"../../data/MTData\", separator = ' ')"
   ]
  },
  {
   "cell_type": "markdown",
   "metadata": {},
   "source": [
    "### Useful functions for missing values"
   ]
  },
  {
   "cell_type": "code",
   "execution_count": 46,
   "metadata": {
    "collapsed": false
   },
   "outputs": [
    {
     "data": {
      "text/plain": [
       "4-element BitArray{1}:\n",
       " false\n",
       "  true\n",
       " false\n",
       " false"
      ]
     },
     "execution_count": 46,
     "metadata": {},
     "output_type": "execute_result"
    }
   ],
   "source": [
    "isna(df[:y2])"
   ]
  },
  {
   "cell_type": "code",
   "execution_count": 47,
   "metadata": {
    "collapsed": false
   },
   "outputs": [
    {
     "data": {
      "text/plain": [
       "4x3 BitArray{2}:\n",
       " true   true   true\n",
       " true  false   true\n",
       " true   true  false\n",
       " true   true   true"
      ]
     },
     "execution_count": 47,
     "metadata": {},
     "output_type": "execute_result"
    }
   ],
   "source": [
    "tstMsng = [!isna(df[:y1]) !isna(df[:y2]) !isna(df[:y3])]"
   ]
  },
  {
   "cell_type": "code",
   "execution_count": 48,
   "metadata": {
    "collapsed": false
   },
   "outputs": [
    {
     "data": {
      "text/plain": [
       "4-element DataArrays.DataArray{Float64,1}:\n",
       " 2.0\n",
       "  NA\n",
       " 1.9\n",
       " 1.7"
      ]
     },
     "execution_count": 48,
     "metadata": {},
     "output_type": "execute_result"
    }
   ],
   "source": [
    "df[:y2]"
   ]
  },
  {
   "cell_type": "code",
   "execution_count": 49,
   "metadata": {
    "collapsed": false
   },
   "outputs": [
    {
     "data": {
      "text/plain": [
       "4-element Array{Float64,1}:\n",
       "  2.0\n",
       " 99.0\n",
       "  1.9\n",
       "  1.7"
      ]
     },
     "execution_count": 49,
     "metadata": {},
     "output_type": "execute_result"
    }
   ],
   "source": [
    "convert(Array, df[:y2], 99.0)"
   ]
  },
  {
   "cell_type": "code",
   "execution_count": 50,
   "metadata": {
    "collapsed": false
   },
   "outputs": [
    {
     "data": {
      "text/html": [
       "<table class=\"data-frame\"><tr><th></th><th>y1</th><th>y2</th><th>y3</th><th>trt</th></tr><tr><th>1</th><td>1.0</td><td>2.0</td><td>1.2</td><td>1</td></tr><tr><th>2</th><td>1.1</td><td>NA</td><td>3.1</td><td>1</td></tr><tr><th>3</th><td>0.9</td><td>1.9</td><td>NA</td><td>2</td></tr><tr><th>4</th><td>1.2</td><td>1.7</td><td>1.9</td><td>2</td></tr></table>"
      ],
      "text/plain": [
       "4x4 DataFrames.DataFrame\n",
       "| Row | y1  | y2  | y3  | trt |\n",
       "|-----|-----|-----|-----|-----|\n",
       "| 1   | 1.0 | 2.0 | 1.2 | 1   |\n",
       "| 2   | 1.1 | NA  | 3.1 | 1   |\n",
       "| 3   | 0.9 | 1.9 | NA  | 2   |\n",
       "| 4   | 1.2 | 1.7 | 1.9 | 2   |"
      ]
     },
     "execution_count": 50,
     "metadata": {},
     "output_type": "execute_result"
    }
   ],
   "source": [
    "df"
   ]
  },
  {
   "cell_type": "markdown",
   "metadata": {},
   "source": [
    "### X matrix for y1 and y2"
   ]
  },
  {
   "cell_type": "code",
   "execution_count": 51,
   "metadata": {
    "collapsed": false
   },
   "outputs": [
    {
     "data": {
      "text/plain": [
       "4x2 Array{Int64,2}:\n",
       " 1  0\n",
       " 1  0\n",
       " 0  1\n",
       " 0  1"
      ]
     },
     "execution_count": 51,
     "metadata": {},
     "output_type": "execute_result"
    }
   ],
   "source": [
    "X1=[1 0\n",
    "    1 0\n",
    "    0 1\n",
    "    0 1]"
   ]
  },
  {
   "cell_type": "code",
   "execution_count": 52,
   "metadata": {
    "collapsed": false
   },
   "outputs": [
    {
     "data": {
      "text/plain": [
       "3x2 Array{Int64,2}:\n",
       " 1  0\n",
       " 0  1\n",
       " 0  1"
      ]
     },
     "execution_count": 52,
     "metadata": {},
     "output_type": "execute_result"
    }
   ],
   "source": [
    "X2=[1 0\n",
    "    0 1\n",
    "    0 1]"
   ]
  },
  {
   "cell_type": "code",
   "execution_count": 53,
   "metadata": {
    "collapsed": false
   },
   "outputs": [
    {
     "data": {
      "text/plain": [
       "2x4 Array{Int64,2}:\n",
       " 0  0  0  0\n",
       " 0  0  0  0"
      ]
     },
     "execution_count": 53,
     "metadata": {},
     "output_type": "execute_result"
    }
   ],
   "source": [
    "zeros(Int64,2,4)"
   ]
  },
  {
   "cell_type": "code",
   "execution_count": 54,
   "metadata": {
    "collapsed": false,
    "scrolled": true
   },
   "outputs": [
    {
     "data": {
      "text/plain": [
       "7x4 Array{Int64,2}:\n",
       " 1  0  0  0\n",
       " 1  0  0  0\n",
       " 0  1  0  0\n",
       " 0  1  0  0\n",
       " 0  0  1  0\n",
       " 0  0  0  1\n",
       " 0  0  0  1"
      ]
     },
     "execution_count": 54,
     "metadata": {},
     "output_type": "execute_result"
    }
   ],
   "source": [
    "X = [X1               zeros(Int64,4,2)\n",
    "     zeros(Int64,3,2) X2             ]"
   ]
  },
  {
   "cell_type": "code",
   "execution_count": 55,
   "metadata": {
    "collapsed": false
   },
   "outputs": [
    {
     "data": {
      "text/plain": [
       "8-element BitArray{1}:\n",
       "  true\n",
       "  true\n",
       "  true\n",
       "  true\n",
       "  true\n",
       " false\n",
       "  true\n",
       "  true"
      ]
     },
     "execution_count": 55,
     "metadata": {},
     "output_type": "execute_result"
    }
   ],
   "source": [
    "sel = [!isna(df[:y1]);  !isna(df[:y2])]"
   ]
  },
  {
   "cell_type": "code",
   "execution_count": 56,
   "metadata": {
    "collapsed": false
   },
   "outputs": [
    {
     "data": {
      "text/plain": [
       "8x8 Array{Float64,2}:\n",
       " 1.0  0.0  0.0  0.0  0.5  0.0  0.0  0.0\n",
       " 0.0  1.0  0.0  0.0  0.0  0.5  0.0  0.0\n",
       " 0.0  0.0  1.0  0.0  0.0  0.0  0.5  0.0\n",
       " 0.0  0.0  0.0  1.0  0.0  0.0  0.0  0.5\n",
       " 0.5  0.0  0.0  0.0  2.0  0.0  0.0  0.0\n",
       " 0.0  0.5  0.0  0.0  0.0  2.0  0.0  0.0\n",
       " 0.0  0.0  0.5  0.0  0.0  0.0  2.0  0.0\n",
       " 0.0  0.0  0.0  0.5  0.0  0.0  0.0  2.0"
      ]
     },
     "execution_count": 56,
     "metadata": {},
     "output_type": "execute_result"
    }
   ],
   "source": [
    "R0 = [1 0.5\n",
    "      0.5 2.0]\n",
    "R  = kron(R0,eye(4))"
   ]
  },
  {
   "cell_type": "code",
   "execution_count": 57,
   "metadata": {
    "collapsed": false
   },
   "outputs": [
    {
     "data": {
      "text/plain": [
       "8x8 Array{Float64,2}:\n",
       " 1.0  0.5  0.0  0.0  0.0  0.0  0.0  0.0\n",
       " 0.5  2.0  0.0  0.0  0.0  0.0  0.0  0.0\n",
       " 0.0  0.0  1.0  0.5  0.0  0.0  0.0  0.0\n",
       " 0.0  0.0  0.5  2.0  0.0  0.0  0.0  0.0\n",
       " 0.0  0.0  0.0  0.0  1.0  0.5  0.0  0.0\n",
       " 0.0  0.0  0.0  0.0  0.5  2.0  0.0  0.0\n",
       " 0.0  0.0  0.0  0.0  0.0  0.0  1.0  0.5\n",
       " 0.0  0.0  0.0  0.0  0.0  0.0  0.5  2.0"
      ]
     },
     "execution_count": 57,
     "metadata": {},
     "output_type": "execute_result"
    }
   ],
   "source": [
    "kron(eye(4),R0)"
   ]
  },
  {
   "cell_type": "code",
   "execution_count": 58,
   "metadata": {
    "collapsed": false
   },
   "outputs": [
    {
     "data": {
      "text/plain": [
       "true"
      ]
     },
     "execution_count": 58,
     "metadata": {},
     "output_type": "execute_result"
    }
   ],
   "source": [
    "I=eye(4)\n",
    "Ri  = round(inv(kron(R0,I)),3) \n",
    "Ri2 = round(kron(inv(R0),I),3)\n",
    "Ri == Ri2"
   ]
  },
  {
   "cell_type": "code",
   "execution_count": 59,
   "metadata": {
    "collapsed": false
   },
   "outputs": [
    {
     "data": {
      "text/plain": [
       "7x7 Array{Float64,2}:\n",
       " 1.0  0.0  0.0  0.0  0.5  0.0  0.0\n",
       " 0.0  1.0  0.0  0.0  0.0  0.0  0.0\n",
       " 0.0  0.0  1.0  0.0  0.0  0.5  0.0\n",
       " 0.0  0.0  0.0  1.0  0.0  0.0  0.5\n",
       " 0.5  0.0  0.0  0.0  2.0  0.0  0.0\n",
       " 0.0  0.0  0.5  0.0  0.0  2.0  0.0\n",
       " 0.0  0.0  0.0  0.5  0.0  0.0  2.0"
      ]
     },
     "execution_count": 59,
     "metadata": {},
     "output_type": "execute_result"
    }
   ],
   "source": [
    "R = R[sel,sel]"
   ]
  },
  {
   "cell_type": "code",
   "execution_count": 60,
   "metadata": {
    "collapsed": false,
    "scrolled": true
   },
   "outputs": [
    {
     "data": {
      "text/plain": [
       "7x7 Array{Float64,2}:\n",
       "  1.143  0.0  -0.0     0.0    -0.286   0.0    -0.0  \n",
       "  0.0    1.0  -0.0     0.0     0.0     0.0    -0.0  \n",
       "  0.0    0.0   1.143   0.0     0.0    -0.286  -0.0  \n",
       "  0.0    0.0   0.0     1.143   0.0     0.0    -0.286\n",
       " -0.286  0.0   0.0     0.0     0.571  -0.0    -0.0  \n",
       "  0.0    0.0  -0.286   0.0     0.0     0.571  -0.0  \n",
       "  0.0    0.0   0.0    -0.286   0.0     0.0     0.571"
      ]
     },
     "execution_count": 60,
     "metadata": {},
     "output_type": "execute_result"
    }
   ],
   "source": [
    "Ri = inv(R)\n",
    "round(Ri,3)"
   ]
  },
  {
   "cell_type": "code",
   "execution_count": 61,
   "metadata": {
    "collapsed": false,
    "scrolled": true
   },
   "outputs": [
    {
     "data": {
      "text/plain": [
       "4x4 Array{Float64,2}:\n",
       "  2.143   0.0    -0.286   0.0  \n",
       "  0.0     2.286   0.0    -0.571\n",
       " -0.286   0.0     0.571   0.0  \n",
       "  0.0    -0.571   0.0     1.143"
      ]
     },
     "execution_count": 61,
     "metadata": {},
     "output_type": "execute_result"
    }
   ],
   "source": [
    "round(X'Ri*X,3)"
   ]
  },
  {
   "cell_type": "markdown",
   "metadata": {},
   "source": [
    "### An equivalent way"
   ]
  },
  {
   "cell_type": "code",
   "execution_count": 62,
   "metadata": {
    "collapsed": false
   },
   "outputs": [
    {
     "data": {
      "text/plain": [
       "8x4 Array{Int64,2}:\n",
       " 1  0  0  0\n",
       " 1  0  0  0\n",
       " 0  1  0  0\n",
       " 0  1  0  0\n",
       " 0  0  1  0\n",
       " 0  0  1  0\n",
       " 0  0  0  1\n",
       " 0  0  0  1"
      ]
     },
     "execution_count": 62,
     "metadata": {},
     "output_type": "execute_result"
    }
   ],
   "source": [
    "X = [X1               zeros(Int64,4,2)\n",
    "    zeros(Int64,4,2)  X1              ]    "
   ]
  },
  {
   "cell_type": "markdown",
   "metadata": {},
   "source": [
    "##### Modify Ri based on missing pattern"
   ]
  },
  {
   "cell_type": "code",
   "execution_count": 63,
   "metadata": {
    "collapsed": false
   },
   "outputs": [
    {
     "data": {
      "text/plain": [
       "8x8 Array{Float64,2}:\n",
       "  1.143   0.0     0.0     0.0    -0.286  -0.0    -0.0    -0.0  \n",
       "  0.0     1.143   0.0     0.0    -0.0    -0.286  -0.0    -0.0  \n",
       "  0.0     0.0     1.143   0.0    -0.0    -0.0    -0.286  -0.0  \n",
       "  0.0     0.0     0.0     1.143  -0.0    -0.0    -0.0    -0.286\n",
       " -0.286  -0.0    -0.0    -0.0     0.571   0.0     0.0     0.0  \n",
       " -0.0    -0.286  -0.0    -0.0     0.0     0.571   0.0     0.0  \n",
       " -0.0    -0.0    -0.286  -0.0     0.0     0.0     0.571   0.0  \n",
       " -0.0    -0.0    -0.0    -0.286   0.0     0.0     0.0     0.571"
      ]
     },
     "execution_count": 63,
     "metadata": {},
     "output_type": "execute_result"
    }
   ],
   "source": [
    "Ri = round(kron(inv(R0),eye(4)),3)"
   ]
  },
  {
   "cell_type": "code",
   "execution_count": 64,
   "metadata": {
    "collapsed": false
   },
   "outputs": [
    {
     "data": {
      "text/plain": [
       "8x8 Array{Float64,2}:\n",
       "  1.143  0.0   0.0     0.0    -0.286  -0.0  -0.0    -0.0  \n",
       "  0.0    1.0   0.0     0.0     0.0     0.0   0.0     0.0  \n",
       "  0.0    0.0   1.143   0.0    -0.0    -0.0  -0.286  -0.0  \n",
       "  0.0    0.0   0.0     1.143  -0.0    -0.0  -0.0    -0.286\n",
       " -0.286  0.0  -0.0    -0.0     0.571   0.0   0.0     0.0  \n",
       " -0.0    0.0  -0.0    -0.0     0.0     0.0   0.0     0.0  \n",
       " -0.0    0.0  -0.286  -0.0     0.0     0.0   0.571   0.0  \n",
       " -0.0    0.0  -0.0    -0.286   0.0     0.0   0.0     0.571"
      ]
     },
     "execution_count": 64,
     "metadata": {},
     "output_type": "execute_result"
    }
   ],
   "source": [
    "Ri[2,:] = 0\n",
    "Ri[:,2] = 0\n",
    "Ri[2,2] = 1.0\n",
    "Ri[6,6] = 0\n",
    "round(Ri,3)"
   ]
  },
  {
   "cell_type": "code",
   "execution_count": 65,
   "metadata": {
    "collapsed": false
   },
   "outputs": [
    {
     "data": {
      "text/plain": [
       "4x4 Array{Float64,2}:\n",
       "  2.143   0.0    -0.286   0.0  \n",
       "  0.0     2.286   0.0    -0.572\n",
       " -0.286   0.0     0.571   0.0  \n",
       "  0.0    -0.572   0.0     1.142"
      ]
     },
     "execution_count": 65,
     "metadata": {},
     "output_type": "execute_result"
    }
   ],
   "source": [
    "X'Ri*X"
   ]
  },
  {
   "cell_type": "markdown",
   "metadata": {},
   "source": [
    "#### numerical examples "
   ]
  },
  {
   "cell_type": "code",
   "execution_count": 66,
   "metadata": {
    "collapsed": false
   },
   "outputs": [
    {
     "data": {
      "text/plain": [
       "3x3 Array{Float64,2}:\n",
       " 1.0  0.5  0.5\n",
       " 0.5  2.0  0.5\n",
       " 0.5  0.5  4.0"
      ]
     },
     "execution_count": 66,
     "metadata": {},
     "output_type": "execute_result"
    }
   ],
   "source": [
    "R0=[\n",
    "    1.0 0.5 0.5\n",
    "    0.5 2.0 0.5\n",
    "    0.5 0.5 4.0\n",
    "]"
   ]
  },
  {
   "cell_type": "markdown",
   "metadata": {},
   "source": [
    "* no missing  "
   ]
  },
  {
   "cell_type": "code",
   "execution_count": 67,
   "metadata": {
    "collapsed": false
   },
   "outputs": [
    {
     "data": {
      "text/plain": [
       "3x3 Array{Float64,2}:\n",
       "  1.19231   -0.269231   -0.115385 \n",
       " -0.269231   0.576923   -0.0384615\n",
       " -0.115385  -0.0384615   0.269231 "
      ]
     },
     "execution_count": 67,
     "metadata": {},
     "output_type": "execute_result"
    }
   ],
   "source": [
    "sel = bool([1,1,1])\n",
    "RZ = zeros(3,3)\n",
    "RZ[sel,sel]=inv(R0[sel,sel])\n",
    "RZ"
   ]
  },
  {
   "cell_type": "markdown",
   "metadata": {},
   "source": [
    "* 1st trait is missing"
   ]
  },
  {
   "cell_type": "code",
   "execution_count": 68,
   "metadata": {
    "collapsed": false
   },
   "outputs": [
    {
     "data": {
      "text/plain": [
       "3x3 Array{Float64,2}:\n",
       " 0.0   0.0         0.0      \n",
       " 0.0   0.516129   -0.0645161\n",
       " 0.0  -0.0645161   0.258065 "
      ]
     },
     "execution_count": 68,
     "metadata": {},
     "output_type": "execute_result"
    }
   ],
   "source": [
    "sel = bool([0,1,1])\n",
    "RZ = zeros(3,3)\n",
    "RZ[sel,sel]=inv(R0[sel,sel])\n",
    "RZ"
   ]
  },
  {
   "cell_type": "markdown",
   "metadata": {},
   "source": [
    "* 2nd trait is missing"
   ]
  },
  {
   "cell_type": "code",
   "execution_count": 69,
   "metadata": {
    "collapsed": false
   },
   "outputs": [
    {
     "data": {
      "text/plain": [
       "3x3 Array{Float64,2}:\n",
       "  1.06667   0.0  -0.133333\n",
       "  0.0       0.0   0.0     \n",
       " -0.133333  0.0   0.266667"
      ]
     },
     "execution_count": 69,
     "metadata": {},
     "output_type": "execute_result"
    }
   ],
   "source": [
    "sel = bool([1,0,1])\n",
    "RZ = zeros(3,3)\n",
    "RZ[sel,sel]=inv(R0[sel,sel])\n",
    "RZ"
   ]
  },
  {
   "cell_type": "markdown",
   "metadata": {},
   "source": [
    "* 3rd trait is missing"
   ]
  },
  {
   "cell_type": "code",
   "execution_count": 70,
   "metadata": {
    "collapsed": false
   },
   "outputs": [
    {
     "data": {
      "text/plain": [
       "3x3 Array{Float64,2}:\n",
       "  1.14286   -0.285714  0.0\n",
       " -0.285714   0.571429  0.0\n",
       "  0.0        0.0       0.0"
      ]
     },
     "execution_count": 70,
     "metadata": {},
     "output_type": "execute_result"
    }
   ],
   "source": [
    "sel = bool([1,1,0])\n",
    "RZ = zeros(3,3)\n",
    "RZ[sel,sel]=inv(R0[sel,sel])\n",
    "RZ"
   ]
  },
  {
   "cell_type": "markdown",
   "metadata": {},
   "source": [
    "### function"
   ]
  },
  {
   "cell_type": "code",
   "execution_count": 71,
   "metadata": {
    "collapsed": false
   },
   "outputs": [],
   "source": [
    "R0=[1.0 0.5 0.5\n",
    "    0.5 2.0 0.5\n",
    "    0.5 0.5 4.0];"
   ]
  },
  {
   "cell_type": "code",
   "execution_count": 72,
   "metadata": {
    "collapsed": false
   },
   "outputs": [],
   "source": [
    "type ResVar\n",
    "    R0::Array{Float64,2}\n",
    "    RiDict::Dict{BitArray{1},Array{Float64,2}}\n",
    "end    "
   ]
  },
  {
   "cell_type": "code",
   "execution_count": 73,
   "metadata": {
    "collapsed": false
   },
   "outputs": [
    {
     "data": {
      "text/plain": [
       "ResVar(3x3 Array{Float64,2}:\n",
       " 1.0  0.5  0.5\n",
       " 0.5  2.0  0.5\n",
       " 0.5  0.5  4.0,Dict{BitArray{1},Array{Float64,2}}())"
      ]
     },
     "execution_count": 73,
     "metadata": {},
     "output_type": "execute_result"
    }
   ],
   "source": [
    "resVar = ResVar(R0,Dict())"
   ]
  },
  {
   "cell_type": "code",
   "execution_count": 74,
   "metadata": {
    "collapsed": false
   },
   "outputs": [
    {
     "data": {
      "text/plain": [
       "getRi (generic function with 1 method)"
      ]
     },
     "execution_count": 74,
     "metadata": {},
     "output_type": "execute_result"
    }
   ],
   "source": [
    "function getRi(resVar::ResVar,sel::BitArray{1})\n",
    "    if haskey(resVar.RiDict,sel)\n",
    "        return resVar.RiDict[sel]\n",
    "    end\n",
    "    n = size(resVar.R0,1)\n",
    "    RZ = zeros(n,n)\n",
    "    RZ[sel,sel] = inv(resVar.R0[sel,sel])\n",
    "    resVar.RiDict[sel] = RZ\n",
    "    return RZ\n",
    "end"
   ]
  },
  {
   "cell_type": "code",
   "execution_count": 75,
   "metadata": {
    "collapsed": false
   },
   "outputs": [
    {
     "data": {
      "text/plain": [
       "4x3 BitArray{2}:\n",
       " true   true   true\n",
       " true  false   true\n",
       " true   true  false\n",
       " true   true   true"
      ]
     },
     "execution_count": 75,
     "metadata": {},
     "output_type": "execute_result"
    }
   ],
   "source": [
    "tstMsng = [!isna(df[:y1]) !isna(df[:y2]) !isna(df[:y3])]"
   ]
  },
  {
   "cell_type": "code",
   "execution_count": 76,
   "metadata": {
    "collapsed": false
   },
   "outputs": [],
   "source": [
    "for i in 1:size(tstMsng,1)\n",
    "    sel = vec(tstMsng[i,:])\n",
    "    getRi(resVar,sel)  \n",
    "end"
   ]
  },
  {
   "cell_type": "code",
   "execution_count": 78,
   "metadata": {
    "collapsed": false
   },
   "outputs": [
    {
     "data": {
      "text/plain": [
       "ResVar(3x3 Array{Float64,2}:\n",
       " 1.0  0.5  0.5\n",
       " 0.5  2.0  0.5\n",
       " 0.5  0.5  4.0,Dict(Bool[true,false,true]=>3x3 Array{Float64,2}:\n",
       "  1.06667   0.0  -0.133333\n",
       "  0.0       0.0   0.0     \n",
       " -0.133333  0.0   0.266667,Bool[true,true,false]=>3x3 Array{Float64,2}:\n",
       "  1.14286   -0.285714  0.0\n",
       " -0.285714   0.571429  0.0\n",
       "  0.0        0.0       0.0,Bool[true,true,true]=>3x3 Array{Float64,2}:\n",
       "  1.19231   -0.269231   -0.115385 \n",
       " -0.269231   0.576923   -0.0384615\n",
       " -0.115385  -0.0384615   0.269231 ))"
      ]
     },
     "execution_count": 78,
     "metadata": {},
     "output_type": "execute_result"
    }
   ],
   "source": [
    "resVar"
   ]
  },
  {
   "cell_type": "code",
   "execution_count": 79,
   "metadata": {
    "collapsed": false
   },
   "outputs": [
    {
     "data": {
      "text/plain": [
       "Dict{BitArray{1},Array{Float64,2}} with 3 entries:\n",
       "  Bool[true,false,true] => 3x3 Array{Float64,2}:…\n",
       "  Bool[true,true,false] => 3x3 Array{Float64,2}:…\n",
       "  Bool[true,true,true]  => 3x3 Array{Float64,2}:…"
      ]
     },
     "execution_count": 79,
     "metadata": {},
     "output_type": "execute_result"
    }
   ],
   "source": [
    "resVar.RiDict"
   ]
  }
 ],
 "metadata": {
  "kernelspec": {
   "display_name": "Julia 0.4.0",
   "language": "julia",
   "name": "julia-0.4"
  },
  "language_info": {
   "file_extension": ".jl",
   "mimetype": "application/julia",
   "name": "julia",
   "version": "0.4.0"
  }
 },
 "nbformat": 4,
 "nbformat_minor": 0
}
