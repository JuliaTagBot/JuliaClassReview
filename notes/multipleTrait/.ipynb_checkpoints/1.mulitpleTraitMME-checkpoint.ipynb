{
 "cells": [
  {
   "cell_type": "markdown",
   "metadata": {},
   "source": [
    "## Tools for building Henderson's Mixed Model Equations for multiple traits without missing data\n"
   ]
  },
  {
   "cell_type": "code",
   "execution_count": 70,
   "metadata": {
    "collapsed": false
   },
   "outputs": [],
   "source": [
    "using PedModule \n",
    "using DataFrames"
   ]
  },
  {
   "cell_type": "code",
   "execution_count": 71,
   "metadata": {
    "collapsed": false
   },
   "outputs": [
    {
     "data": {
      "text/plain": [
       "GaussSeidel (generic function with 1 method)"
      ]
     },
     "execution_count": 71,
     "metadata": {},
     "output_type": "execute_result"
    }
   ],
   "source": [
    "include(\"../../MME.jl/solver.jl\")"
   ]
  },
  {
   "cell_type": "markdown",
   "metadata": {},
   "source": [
    "### <font color=\"red\"> types and functions below are same (or very similar) as before.</font>"
   ]
  },
  {
   "cell_type": "code",
   "execution_count": 72,
   "metadata": {
    "collapsed": false
   },
   "outputs": [
    {
     "data": {
      "text/plain": [
       "addA (generic function with 1 method)"
      ]
     },
     "execution_count": 72,
     "metadata": {},
     "output_type": "execute_result"
    }
   ],
   "source": [
    "function mkDict(a)\n",
    "    aUnique = unique(a)\n",
    "    d = Dict()\n",
    "    names = Array(Any,size(aUnique,1))\n",
    "    for (i,s) in enumerate(aUnique)\n",
    "        names[i] = s\n",
    "        d[s] = i\n",
    "    end\n",
    "    return d,names\n",
    "end\n",
    "\n",
    "function getData(trm,df::DataFrame,mme::MME)\n",
    "    nObs = size(df,1)\n",
    "    trm.str = Array(AbstractString,nObs)\n",
    "    trm.val = Array(Float64,nObs)\n",
    "    \n",
    "    if trm.factors[1] == :intercept ##modified from Melanie's HW ##new\n",
    "        str = fill(string(trm.factors[1]),nObs) \n",
    "        val = fill(1.0,nObs)\n",
    "        trm.str = str\n",
    "        trm.val = val\n",
    "        return\n",
    "    end\n",
    "    \n",
    "    myDf = df[trm.factors]   \n",
    "        \n",
    "    if trm.factors[1] in mme.covVec\n",
    "        str = fill(string(trm.factors[1]),nObs)\n",
    "        val = df[trm.factors[1]]\n",
    "    else\n",
    "        str = [string(i) for i in df[trm.factors[1]]]\n",
    "        val = fill(1.0,nObs)\n",
    "    end\n",
    "    for i=2:trm.nFactors\n",
    "        if trm.factors[i] in mme.covVec\n",
    "            str = str .* fill(\" x \"*string(trm.factors[i]),nObs)\n",
    "            val = val .* df[trm.factors[i]]\n",
    "        else\n",
    "            str = str .* fill(\" x \",nObs) .* [string(j) for j in df[trm.factors[i]]]\n",
    "            val = val .* fill(1.0,nObs)\n",
    "        end\n",
    "    end\n",
    "    trm.str = str\n",
    "    trm.val = val\n",
    "end\n",
    "\n",
    "\n",
    "function getNames(mme)\n",
    "    names = Array(AbstractString,0)\n",
    "    for trm in mme.modelTerms\n",
    "        for name in trm.names\n",
    "            push!(names,trm.trmStr*\": \"*name)\n",
    "        end\n",
    "    end\n",
    "    return names\n",
    "end  \n",
    "\n",
    "function covList(mme::MME, covStr::AbstractString)\n",
    "    covVec = split(covStr,\" \",keep=false) \n",
    "    mme.covVec = [symbol(i) for i in covVec]\n",
    "    nothing\n",
    "end\n",
    "\n",
    "function getSolJ(mme::MME, df::DataFrame)\n",
    "    if size(mme.mmeRhs)==() \n",
    "        getMME(mme,df)\n",
    "    end\n",
    "    p = size(mme.mmeRhs,1)\n",
    "    return [getNames(mme) Jacobi(mme.mmeLhs,fill(0.0,p),mme.mmeRhs,0.3,tol=0.000001)]\n",
    "end\n",
    "\n",
    "function getSolG(mme::MME, df::DataFrame)\n",
    "    if size(mme.mmeRhs)==() \n",
    "        getMME(mme,df)\n",
    "    end\n",
    "    p = size(mme.mmeRhs,1)\n",
    "    return [getNames(mme) GaussSeidel(mme.mmeLhs,fill(0.0,p),mme.mmeRhs,tol=0.000001)]\n",
    "end\n",
    "\n",
    "\n",
    "function addA(mme::MME)\n",
    "    pedTrmVec = mme.pedTrmVec\n",
    "    for (i,trmi) = enumerate(pedTrmVec)\n",
    "        pedTrmi  = mme.modelTermDict[trmi]\n",
    "        startPosi  = pedTrmi.startPos\n",
    "        endPosi    = startPosi + pedTrmi.nLevels - 1\n",
    "        for (j,trmj) = enumerate(pedTrmVec)\n",
    "            pedTrmj  = mme.modelTermDict[trmj]\n",
    "            startPosj  = pedTrmj.startPos\n",
    "            endPosj    = startPosj + pedTrmj.nLevels - 1  \n",
    "            mme.mmeLhs[startPosi:endPosi,startPosj:endPosj] = \n",
    "            mme.mmeLhs[startPosi:endPosi,startPosj:endPosj] + mme.Ai*mme.Gi[i,j] \n",
    "        end\n",
    "    end\n",
    "end"
   ]
  },
  {
   "cell_type": "markdown",
   "metadata": {},
   "source": [
    "### Types and Functions"
   ]
  },
  {
   "cell_type": "code",
   "execution_count": 73,
   "metadata": {
    "collapsed": false
   },
   "outputs": [
    {
     "data": {
      "text/plain": [
       "getX (generic function with 1 method)"
      ]
     },
     "execution_count": 73,
     "metadata": {},
     "output_type": "execute_result"
    }
   ],
   "source": [
    "type ModelTerm \n",
    "    iModel::Int64\n",
    "    trmStr::AbstractString\n",
    "    nFactors::Int64\n",
    "    factors::Array{Symbol,1}\n",
    "    str::Array{AbstractString,1}                    # used to store the data for this term as strings\n",
    "    val::Array{Float64,1}\n",
    "    startPos::Int64                         # start pos in HMME\n",
    "    nLevels::Int64                           \n",
    "    X::SparseMatrixCSC{Float64,Int64}\n",
    "    names::Array{Any,1}\n",
    "end\n",
    "\n",
    "type MME\n",
    "    modelVec::Array{AbstractString,1} #new\n",
    "    modelTerms::Array{ModelTerm,1}    #new\n",
    "    modelTermDict::Dict{AbstractString,ModelTerm} #new\n",
    "    lhsVec::Array{Symbol,1}\n",
    "    covVec::Array{Symbol,1}\n",
    "    pedTrmVec::Array{AbstractString,1}\n",
    "    mmeLhs\n",
    "    mmeRhs\n",
    "    ped\n",
    "    Gi::Array{Float64,2}\n",
    "    Ri::Array{Float64,2}\n",
    "    Ai\n",
    "    mmePos::Int64\n",
    "end\n",
    "\n",
    "function getTerm(trmStr,m)\n",
    "    trm = ModelTerm(m,string(m)*\":\"*trmStr,0,[],[],[],0,0,spzeros(0,0),[])\n",
    "    factorVec = split(trmStr,\"*\")\n",
    "    trm.nFactors = length(factorVec)\n",
    "    trm.factors = [symbol(strip(f)) for f in factorVec]\n",
    "    return trm\n",
    "end\n",
    "\n",
    "function initMME(models::AbstractString,R::Array{Float64,2})\n",
    "    # returns an MME object for muilding the mme corresponding \n",
    "    # to the input string\n",
    "    if models==\"\"\n",
    "        error(\"modelEquation is empty\\n\")\n",
    "    end\n",
    "    modelVec = split(models,[';','\\n']; keep=false)\n",
    "    nModels  = size(modelVec,1)\n",
    "    lhsVec   = Symbol[]\n",
    "    modelTerms = ModelTerm[]\n",
    "    dict = Dict{AbstractString,ModelTerm}()\n",
    "    for (m,model) = enumerate(modelVec)\n",
    "        lhsRhs = split(model,\"=\")\n",
    "        lhsVec = [lhsVec,symbol(strip(lhsRhs[1]))]\n",
    "        rhs = strip(lhsRhs[2])\n",
    "        rhsVec = split(rhs,\"+\")    \n",
    "        mTrms = [getTerm(strip(trmStr),m) for trmStr in rhsVec]\n",
    "        modelTerms = [modelTerms; mTrms] #1:Animal 2:Animal\n",
    "        for (i,trm) = enumerate(modelTerms) # this may need to change\n",
    "            dict[trm.trmStr] = modelTerms[i]\n",
    "        end \n",
    "    end\n",
    "    Ri = inv(R)\n",
    "    return MME(modelVec,modelTerms,dict,lhsVec,[],[],0,0,0,Array(Float64,1,1),Ri,0,1)\n",
    "end \n",
    "\n",
    "function setAsRandom(mme::MME,randomStr::AbstractString,ped::PedModule.Pedigree, G::Array{Float64,2})\n",
    "    pedTrmVec = split(randomStr,\" \";keep=false)\n",
    "    res = []\n",
    "    for trm in pedTrmVec\n",
    "        for (m,model) = enumerate(mme.modelVec)\n",
    "            strVec  = split(model,['=','+'])\n",
    "            strpVec = [strip(i) for i in strVec]\n",
    "            if trm in strpVec\n",
    "                res = [res,string(m)*\":\"*trm]\n",
    "            end\n",
    "        end\n",
    "    end\n",
    "    mme.pedTrmVec = res\n",
    "    mme.ped = ped\n",
    "    mme.Gi = inv(G)\n",
    "    nothing\n",
    "end\n",
    "\n",
    "function getMME(mme::MME, df::DataFrame)\n",
    "    mme.mmePos = 1\n",
    "    for trm in mme.modelTerms\n",
    "        getData(trm,df,mme)\n",
    "        getX(trm,mme)\n",
    "    end\n",
    "    n   = size(mme.modelTerms,1)\n",
    "    trm = mme.modelTerms[1]\n",
    "    X   = trm.X\n",
    "    for i=2:n\n",
    "        trm = mme.modelTerms[i]\n",
    "        X = [X trm.X]\n",
    "    end\n",
    "    y = df[mme.lhsVec[1]]\n",
    "    for i=2:size(mme.lhsVec,1)\n",
    "        y    = [y, df[mme.lhsVec[i]] ] \n",
    "    end\n",
    "    N  = size(y,1)\n",
    "    ii = 1:N\n",
    "    jj = fill(1,N)\n",
    "    vv = y\n",
    "    ySparse = sparse(ii,jj,vv)\n",
    "    nObs = size(df,1)\n",
    "    Ri = kron(mme.Ri,speye(nObs))\n",
    "    mme.mmeLhs = X'Ri*X\n",
    "    mme.mmeRhs = X'Ri*ySparse\n",
    "    if mme.ped != 0\n",
    "        ii,jj,vv = PedModule.HAi(mme.ped)\n",
    "        HAi = sparse(ii,jj,vv)\n",
    "        mme.Ai = HAi'HAi\n",
    "        addA(mme::MME)\n",
    "    end   \n",
    "end\n",
    "\n",
    "getFactor1(str) = [strip(i) for i in split(str,\"x\")][1]\n",
    "\n",
    "function getX(trm,mme::MME)\n",
    "    pedSize = 0\n",
    "    nObs  = size(trm.str,1)\n",
    "    if trm.trmStr in mme.pedTrmVec\n",
    "        trm.names   = PedModule.getIDs(mme.ped)\n",
    "        trm.nLevels = length(mme.ped.idMap)\n",
    "        xj = round(Int64,[mme.ped.idMap[getFactor1(i)].seqID for i in trm.str])\n",
    "    else\n",
    "        dict,trm.names  = mkDict(trm.str)\n",
    "        trm.nLevels     = length(dict)\n",
    "        xj    = round(Int64,[dict[i] for i in trm.str])\n",
    "    end\n",
    "    xi    = (trm.iModel-1)*nObs + collect(1:nObs)\n",
    "    xv    = trm.val\n",
    "    if mme.ped!=0\n",
    "        pedSize = length(mme.ped.idMap)\n",
    "        if trm.trmStr in mme.pedTrmVec\n",
    "            # This is to ensure the X matrix for \n",
    "            # additive effect has the correct number of columns\n",
    "            ii = 1         # adding a zero to\n",
    "            jj = pedSize   # the last column in row 1\n",
    "            vv = [0.0]\n",
    "            xi = [xi;ii]\n",
    "            xj = [xj;jj]\n",
    "            xv = [xv;vv]\n",
    "        end\n",
    "    end \n",
    "    #make sure X has nObs*nModels rows\n",
    "    nModels = size(mme.lhsVec,1)\n",
    "    xi = [xi;1;nObs*nModels]\n",
    "    xj = [xj;1;1]\n",
    "    xv = [xv;0;0]\n",
    "    trm.X = sparse(xi,xj,xv)\n",
    "    trm.startPos = mme.mmePos\n",
    "    mme.mmePos  += trm.nLevels\n",
    "end"
   ]
  },
  {
   "cell_type": "code",
   "execution_count": 74,
   "metadata": {
    "collapsed": false
   },
   "outputs": [
    {
     "data": {
      "text/plain": [
       "Dict{Any,Any} with 5 entries:\n",
       "  \"O1\" => PedModule.PedNode(3,\"S1\",\"D1\",0.0)\n",
       "  \"S1\" => PedModule.PedNode(1,\"0\",\"0\",0.0)\n",
       "  \"O3\" => PedModule.PedNode(4,\"S1\",\"D1\",0.0)\n",
       "  \"D1\" => PedModule.PedNode(2,\"0\",\"0\",0.0)\n",
       "  \"O2\" => PedModule.PedNode(5,\"S1\",\"D1\",0.0)"
      ]
     },
     "execution_count": 74,
     "metadata": {},
     "output_type": "execute_result"
    }
   ],
   "source": [
    "ped = PedModule.mkPed(\"../../data/small.ped\")\n",
    "ped.idMap"
   ]
  },
  {
   "cell_type": "code",
   "execution_count": 75,
   "metadata": {
    "collapsed": false
   },
   "outputs": [
    {
     "data": {
      "text/html": [
       "<table class=\"data-frame\"><tr><th></th><th>Animal</th><th>y1</th><th>y2</th></tr><tr><th>1</th><td>S1</td><td>100.0</td><td>10.0</td></tr><tr><th>2</th><td>D1</td><td>50.0</td><td>12.9</td></tr><tr><th>3</th><td>O1</td><td>150.0</td><td>13.0</td></tr><tr><th>4</th><td>O3</td><td>40.0</td><td>5.0</td></tr></table>"
      ],
      "text/plain": [
       "4x3 DataFrames.DataFrame\n",
       "| Row | Animal | y1    | y2   |\n",
       "|-----|--------|-------|------|\n",
       "| 1   | \"S1\"   | 100.0 | 10.0 |\n",
       "| 2   | \"D1\"   | 50.0  | 12.9 |\n",
       "| 3   | \"O1\"   | 150.0 | 13.0 |\n",
       "| 4   | \"O3\"   | 40.0  | 5.0  |"
      ]
     },
     "execution_count": 75,
     "metadata": {},
     "output_type": "execute_result"
    }
   ],
   "source": [
    "ID = [\"S1\",\"D1\",\"O1\",\"O3\"]\n",
    "y1 = [100.0, 50.0, 150.0, 40.0]\n",
    "y2 = [10.0,  12.9, 13.0,  5.0]\n",
    "dfMT = DataFrame(Animal=ID,y1=y1,y2=y2)"
   ]
  },
  {
   "cell_type": "markdown",
   "metadata": {},
   "source": [
    "### Multiple Trait Animal Model "
   ]
  },
  {
   "cell_type": "code",
   "execution_count": 76,
   "metadata": {
    "collapsed": false
   },
   "outputs": [],
   "source": [
    "models = \"y1 = intercept + Animal;\n",
    "          y2 = intercept + Animal\"\n",
    "R = [10 2; 2 1.0]\n",
    "mme = initMME(models,R)\n",
    "G0 = [5 1;1 1.0]\n",
    "setAsRandom(mme,\"Animal\", ped,G0)"
   ]
  },
  {
   "cell_type": "code",
   "execution_count": 77,
   "metadata": {
    "collapsed": false
   },
   "outputs": [
    {
     "data": {
      "text/plain": [
       "2-element Array{AbstractString,1}:\n",
       " \"1:Animal\"\n",
       " \"2:Animal\""
      ]
     },
     "execution_count": 77,
     "metadata": {},
     "output_type": "execute_result"
    }
   ],
   "source": [
    "mme.pedTrmVec"
   ]
  },
  {
   "cell_type": "code",
   "execution_count": 78,
   "metadata": {
    "collapsed": false,
    "scrolled": true
   },
   "outputs": [],
   "source": [
    "getMME(mme,dfMT);"
   ]
  },
  {
   "cell_type": "code",
   "execution_count": 79,
   "metadata": {
    "collapsed": false
   },
   "outputs": [
    {
     "data": {
      "text/plain": [
       "4-element Array{Any,1}:\n",
       " 1\n",
       " 2\n",
       " 7\n",
       " 8"
      ]
     },
     "execution_count": 79,
     "metadata": {},
     "output_type": "execute_result"
    }
   ],
   "source": [
    "[trm.startPos for trm in mme.modelTerms]"
   ]
  },
  {
   "cell_type": "code",
   "execution_count": 80,
   "metadata": {
    "collapsed": false,
    "scrolled": false
   },
   "outputs": [
    {
     "data": {
      "text/plain": [
       "12x12 Array{Float64,2}:\n",
       "  0.67   0.17   0.17   0.17   0.17  …  -0.33  -0.33  -0.33  -0.33   0.0 \n",
       "  0.17   0.79   0.38  -0.25  -0.25     -0.96  -0.38   0.25   0.25   0.25\n",
       "  0.17   0.38   0.79  -0.25  -0.25     -0.38  -0.96   0.25   0.25   0.25\n",
       "  0.17  -0.25  -0.25   0.67   0.0       0.25   0.25  -0.83   0.0    0.0 \n",
       "  0.17  -0.25  -0.25   0.0    0.67      0.25   0.25   0.0   -0.83   0.0 \n",
       "  0.0   -0.25  -0.25   0.0    0.0   …   0.25   0.25   0.0    0.0   -0.5 \n",
       " -1.33  -0.33  -0.33  -0.33  -0.33      1.67   1.67   1.67   1.67   0.0 \n",
       " -0.33  -0.96  -0.38   0.25   0.25      4.79   1.88  -1.25  -1.25  -1.25\n",
       " -0.33  -0.38  -0.96   0.25   0.25      1.88   4.79  -1.25  -1.25  -1.25\n",
       " -0.33   0.25   0.25  -0.83   0.0      -1.25  -1.25   4.17   0.0    0.0 \n",
       " -0.33   0.25   0.25   0.0   -0.83  …  -1.25  -1.25   0.0    4.17   0.0 \n",
       "  0.0    0.25   0.25   0.0    0.0      -1.25  -1.25   0.0    0.0    2.5 "
      ]
     },
     "execution_count": 80,
     "metadata": {},
     "output_type": "execute_result"
    }
   ],
   "source": [
    "round(full(mme.mmeLhs),2)"
   ]
  },
  {
   "cell_type": "code",
   "execution_count": 81,
   "metadata": {
    "collapsed": false,
    "scrolled": false
   },
   "outputs": [
    {
     "name": "stdout",
     "output_type": "stream",
     "text": [
      "10 "
     ]
    },
    {
     "data": {
      "text/plain": [
       "12x2 Array{Any,2}:\n",
       " \"1:intercept: intercept\"  83.8789    \n",
       " \"1:Animal: S1\"             8.33904   \n",
       " \"1:Animal: D1\"            -8.32588   \n",
       " \"1:Animal: O1\"            13.2295    \n",
       " \"1:Animal: O3\"            -8.77054   \n",
       " \"1:Animal: O2\"             0.00658015\n",
       " \"2:intercept: intercept\"  10.8045    \n",
       " \"2:Animal: S1\"            -2.01601   \n",
       " \"2:Animal: D1\"             2.02271   \n",
       " \"2:Animal: O1\"            -1.76437   \n",
       " \"2:Animal: O3\"            -0.564367  \n",
       " \"2:Animal: O2\"             0.00335109"
      ]
     },
     "execution_count": 81,
     "metadata": {},
     "output_type": "execute_result"
    }
   ],
   "source": [
    "getSolG(mme, dfMT)"
   ]
  },
  {
   "cell_type": "markdown",
   "metadata": {},
   "source": [
    "###  Multiple Trait Model with Direct and Maternal Effects"
   ]
  },
  {
   "cell_type": "code",
   "execution_count": 82,
   "metadata": {
    "collapsed": false
   },
   "outputs": [
    {
     "data": {
      "text/html": [
       "<table class=\"data-frame\"><tr><th></th><th>Animal</th><th>y1</th><th>y2</th><th>mat</th></tr><tr><th>1</th><td>O1</td><td>150.0</td><td>13.0</td><td>D1</td></tr><tr><th>2</th><td>O3</td><td>40.0</td><td>5.0</td><td>D1</td></tr></table>"
      ],
      "text/plain": [
       "2x4 DataFrames.DataFrame\n",
       "| Row | Animal | y1    | y2   | mat  |\n",
       "|-----|--------|-------|------|------|\n",
       "| 1   | \"O1\"   | 150.0 | 13.0 | \"D1\" |\n",
       "| 2   | \"O3\"   | 40.0  | 5.0  | \"D1\" |"
      ]
     },
     "execution_count": 82,
     "metadata": {},
     "output_type": "execute_result"
    },
    {
     "name": "stdout",
     "output_type": "stream",
     "text": [
      "0.0017157231019855155\n",
      "20 4.3888600044963984e-5\n",
      "30 3.736349193358576e-6\n"
     ]
    }
   ],
   "source": [
    "dfMTMat = [dfMT[3:4,:]  DataFrame(mat = [\"D1\",\"D1\"])]"
   ]
  },
  {
   "cell_type": "code",
   "execution_count": 83,
   "metadata": {
    "collapsed": false
   },
   "outputs": [
    {
     "data": {
      "text/plain": [
       "3-element Array{AbstractString,1}:\n",
       " \"1:Animal\"\n",
       " \"2:Animal\"\n",
       " \"1:mat\"   "
      ]
     },
     "execution_count": 83,
     "metadata": {},
     "output_type": "execute_result"
    }
   ],
   "source": [
    "models = \"y1 = intercept + Animal + mat;\n",
    "          y2 = intercept + Animal\"\n",
    "R = [10 2; 2 1.0]\n",
    "mme = initMME(models,R)\n",
    "G0 = [5   1    0.1\n",
    "      1   1    0.01\n",
    "      0.1 0.01 0.5]\n",
    "setAsRandom(mme,\"Animal mat\", ped,G0)\n",
    "mme.pedTrmVec"
   ]
  },
  {
   "cell_type": "code",
   "execution_count": 84,
   "metadata": {
    "collapsed": false,
    "scrolled": true
   },
   "outputs": [
    {
     "data": {
      "text/plain": [
       "17x2 Array{Any,2}:\n",
       " \"1:intercept: intercept\"   94.9882     \n",
       " \"1:Animal: S1\"              3.38982e-15\n",
       " \"1:Animal: D1\"              2.77061e-15\n",
       " \"1:Animal: O1\"             11.0        \n",
       " \"1:Animal: O3\"            -11.0        \n",
       " \"1:Animal: O2\"              3.08021e-15\n",
       " \"1:mat: S1\"                 1.56027e-16\n",
       " \"1:mat: D1\"                 1.97215e-31\n",
       " \"1:mat: O1\"                 0.255      \n",
       " \"1:mat: O3\"                -0.255      \n",
       " \"1:mat: O2\"                 7.80133e-17\n",
       " \"2:intercept: intercept\"    8.99764    \n",
       " \"2:Animal: S1\"              3.14096e-16\n",
       " \"2:Animal: D1\"             -4.3318e-16 \n",
       " \"2:Animal: O1\"             -0.599998   \n",
       " \"2:Animal: O3\"              0.599998   \n",
       " \"2:Animal: O2\"             -5.95421e-17"
      ]
     },
     "execution_count": 84,
     "metadata": {},
     "output_type": "execute_result"
    }
   ],
   "source": [
    "getSolG(mme, dfMTMat)"
   ]
  }
 ],
 "metadata": {
  "kernelspec": {
   "display_name": "Julia 0.4.0",
   "language": "julia",
   "name": "julia-0.4"
  },
  "language_info": {
   "file_extension": ".jl",
   "mimetype": "application/julia",
   "name": "julia",
   "version": "0.4.0"
  }
 },
 "nbformat": 4,
 "nbformat_minor": 0
}
