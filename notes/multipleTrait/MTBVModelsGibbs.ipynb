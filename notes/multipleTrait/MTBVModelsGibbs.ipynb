{
 "cells": [
  {
   "cell_type": "markdown",
   "metadata": {},
   "source": [
    "## Tools for building Henderson's Mixed Model Equations\n",
    "\n",
    "Use of Gibbs sampler to compute posterior mean of effects \n"
   ]
  },
  {
   "cell_type": "code",
   "execution_count": 1,
   "metadata": {
    "collapsed": false
   },
   "outputs": [],
   "source": [
    "using PedModule\n",
    "using DataFrames"
   ]
  },
  {
   "cell_type": "code",
   "execution_count": 2,
   "metadata": {
    "collapsed": false
   },
   "outputs": [
    {
     "data": {
      "text/plain": [
       "GaussSeidel (generic function with 1 method)"
      ]
     },
     "execution_count": 2,
     "metadata": {},
     "output_type": "execute_result"
    }
   ],
   "source": [
    "include(\"../../Module/solver.jl\")"
   ]
  },
  {
   "cell_type": "code",
   "execution_count": 19,
   "metadata": {
    "collapsed": false
   },
   "outputs": [
    {
     "data": {
      "text/plain": [
       "Jacobi (generic function with 1 method)"
      ]
     },
     "execution_count": 19,
     "metadata": {},
     "output_type": "execute_result"
    }
   ],
   "source": [
    "function Gibbs(A,x,b,nIter;outFreq=100)\n",
    "    n = size(x,1)\n",
    "    xMean = zeros(n)\n",
    "    for iter = 1:nIter\n",
    "        if iter%outFreq==0\n",
    "            println(\"at sample: \",iter)\n",
    "        end\n",
    "        for i=1:n\n",
    "            cVarInv = 1.0/A[i,i]\n",
    "            cMean   = cVarInv*(b[i] - A[:,i]'x)[1,1] + x[i]\n",
    "            x[i]    = randn()*sqrt(cVarInv) + cMean \n",
    "        end\n",
    "        xMean += (x - xMean)/iter\n",
    "    end\n",
    "    return xMean\n",
    "end\n",
    "\n",
    "\n",
    "function GaussSeidel(A,x,b;tol=0.000001,outFreq=100)\n",
    "    n = size(x,1)\n",
    "    for i=1:n\n",
    "        x[i] = ((b[i] - A[:,i]'x)/A[i,i])[1,1] + x[i]\n",
    "    end\n",
    "    diff = sum((A*x-b).^2)\n",
    "    iter = 0\n",
    "    while ((diff/n > tol) & (iter<1000))\n",
    "        iter += 1\n",
    "        for i=1:n\n",
    "            x[i] = ((b[i] - A[:,i]'x)/A[i,i])[1,1] + x[i]\n",
    "        end\n",
    "        diff = sum((A*x-b).^2)\n",
    "        if iter%outFreq==0\n",
    "            println(\"at iter: \",iter,\" \",diff/n)\n",
    "        end\n",
    "    end\n",
    "    return x\n",
    "end\n",
    "\n",
    "function Jacobi(A,x,b,p;tol=0.000001,outFreq=100)\n",
    "    D       = diag(A)\n",
    "    res     = A*x\n",
    "    resid   = b-res\n",
    "    tempSol = resid./D\n",
    "    diff    = sum(resid.^2)\n",
    "    n    = size(A,1)\n",
    "    iter = 0\n",
    "    while ((diff/n > tol) & (iter<1000))\n",
    "        iter += 1\n",
    "        x = p*tempSol + (1-p)*x\n",
    "        res     = A*x\n",
    "        resid   = b-res\n",
    "        tempSol = resid./D + x\n",
    "        diff    = sum(resid.^2)\n",
    "        println(iter,\" \",diff/n)\n",
    "    end\n",
    "    return x\n",
    "end"
   ]
  },
  {
   "cell_type": "code",
   "execution_count": 5,
   "metadata": {
    "collapsed": false
   },
   "outputs": [
    {
     "data": {
      "text/plain": [
       "addA (generic function with 1 method)"
      ]
     },
     "execution_count": 5,
     "metadata": {},
     "output_type": "execute_result"
    }
   ],
   "source": [
    "type ModelTerm \n",
    "    iModel::Int64\n",
    "    trmStr::AbstractString\n",
    "    nFactors::Int64\n",
    "    factors::Array{Symbol,1}\n",
    "    str::Array{AbstractString,1}                    # used to store the data for this term as strings\n",
    "    val::Array{Float64,1}\n",
    "    startPos::Int64                         # start pos in HMME\n",
    "    nLevels::Int64                           \n",
    "    X::SparseMatrixCSC{Float64,Int64}\n",
    "    names::Array{Any,1}\n",
    "end\n",
    "\n",
    "type MME\n",
    "    modelVec::Array{AbstractString,1}\n",
    "    modelTerms::Array{ModelTerm,1}\n",
    "    modelTermDict::Dict{AbstractString,ModelTerm}\n",
    "    lhsVec::Array{Symbol,1}\n",
    "    covVec::Array{Symbol,1}\n",
    "    pedTrmVec::Array{AbstractString,1}\n",
    "    mmeLhs\n",
    "    mmeRhs\n",
    "    ped\n",
    "    Gi::Array{Float64,2}\n",
    "    R::Array{Float64,2}\n",
    "    Ai\n",
    "    mmePos::Int64\n",
    "end\n",
    "\n",
    "type ResVar\n",
    "    R0::Array{Float64,2}\n",
    "    RiDict::Dict{BitArray{1},Array{Float64,2}}\n",
    "end   \n",
    "\n",
    "function mkDict(a)\n",
    "    aUnique = unique(a)\n",
    "    d = Dict()\n",
    "    names = Array(Any,size(aUnique,1))\n",
    "    for (i,s) in enumerate(aUnique)\n",
    "        names[i] = s\n",
    "        d[s] = i\n",
    "    end\n",
    "    return d,names\n",
    "end\n",
    "\n",
    "function getTerm(trmStr,m)\n",
    "    trm = ModelTerm(m,string(m)*\":\"*trmStr,0,[],[],[],0,0,spzeros(0,0),[])\n",
    "    factorVec = split(trmStr,\"*\")\n",
    "    trm.nFactors = length(factorVec)\n",
    "    trm.factors = [symbol(strip(f)) for f in factorVec]\n",
    "    return trm\n",
    "end\n",
    "\n",
    "function initMME(models::AbstractString,R::Array{Float64,2})\n",
    "    # returns an MME object for muilding the mme corresponding \n",
    "    # to the input string\n",
    "    if models==\"\"\n",
    "        println(\"modelEquation is empty\\n\")\n",
    "        return\n",
    "    end\n",
    "    modelVec = split(models,[';','\\n'],keep=false)\n",
    "    nModels  = size(modelVec,1)\n",
    "    lhsVec   = Symbol[]\n",
    "    modelTerms = ModelTerm[]\n",
    "    dict = Dict{AbstractString,ModelTerm}()\n",
    "    for (m,model) = enumerate(modelVec)\n",
    "        lhsRhs = split(model,\"=\")\n",
    "        lhsVec = [lhsVec;symbol(strip(lhsRhs[1]))]\n",
    "        rhs = strip(lhsRhs[2])\n",
    "        rhsVec = split(rhs,\"+\")    \n",
    "        mTrms = [getTerm(strip(trmStr),m) for trmStr in rhsVec]\n",
    "        modelTerms = [modelTerms; mTrms]\n",
    "        for (i,trm) = enumerate(modelTerms) \n",
    "            dict[trm.trmStr] = modelTerms[i]\n",
    "        end \n",
    "    end\n",
    "    return MME(modelVec,modelTerms,dict,lhsVec,[],[],0,0,0,Array(Float64,1,1),R,0,1)\n",
    "end \n",
    "\n",
    "function getData(trm::ModelTerm,df::DataFrame,mme::MME)\n",
    "    nObs = size(df,1)\n",
    "    trm.str = Array(AbstractString,nObs)\n",
    "    trm.val = Array(Float64,nObs)\n",
    "    if(trm.factors[1] == :intercept)                     # from Melanie's HW\n",
    "        str = fill(string(trm.factors[1]),nObs)\n",
    "        val = fill(1.0,nObs)\n",
    "    else\n",
    "        myDf = df[trm.factors]\n",
    "        if trm.factors[1] in mme.covVec\n",
    "            str = fill(string(trm.factors[1]),nObs)\n",
    "            val = df[trm.factors[1]]\n",
    "        else\n",
    "            str = [string(i) for i in df[trm.factors[1]]]\n",
    "            val = fill(1.0,nObs)\n",
    "        end\n",
    "        for i=2:trm.nFactors\n",
    "            if trm.factors[i] in mme.covVec\n",
    "                str = str .* fill(\"*\"*string(trm.factors[i]),nObs)\n",
    "                val = val .* df[trm.factors[i]]\n",
    "            else\n",
    "                str = str .* fill(\"*\",nObs) .* [string(j) for j in df[trm.factors[i]]]\n",
    "                val = val .* fill(1.0,nObs)\n",
    "            end\n",
    "        end\n",
    "    end\n",
    "    trm.str = str\n",
    "    trm.val = val\n",
    "end\n",
    "\n",
    "getFactor1(str) = [strip(i) for i in split(str,\"*\")][1]\n",
    "\n",
    "function getX(trm,mme::MME)\n",
    "    pedSize = 0\n",
    "    nObs  = size(trm.str,1)\n",
    "    if trm.trmStr in mme.pedTrmVec\n",
    "        trm.names   = PedModule.getIDs(mme.ped)\n",
    "        trm.nLevels = length(mme.ped.idMap)\n",
    "        xj = round(Int64,[mme.ped.idMap[getFactor1(i)].seqID for i in trm.str])\n",
    "    else\n",
    "        dict,trm.names  = mkDict(trm.str)\n",
    "        trm.nLevels     = length(dict)\n",
    "        xj    = round(Int64,[dict[i] for i in trm.str])\n",
    "    end\n",
    "    xi    = (trm.iModel-1)*nObs + collect(1:nObs)\n",
    "    xv    = trm.val\n",
    "    if mme.ped!=0\n",
    "        pedSize = length(mme.ped.idMap)\n",
    "        if trm.trmStr in mme.pedTrmVec\n",
    "            # This is to ensure the X matrix for \n",
    "            # additive effect has the correct number of columns\n",
    "            ii = 1         # adding a zero to\n",
    "            jj = pedSize   # the last column in row 1\n",
    "            vv = [0.0]\n",
    "            xi = [xi;ii]\n",
    "            xj = [xj;jj]\n",
    "            xv = [xv;vv]\n",
    "        end\n",
    "    end \n",
    "    #make sure X has nObs*nModels rows\n",
    "    nModels = size(mme.lhsVec,1)\n",
    "    xi = [xi;1;nObs*nModels]\n",
    "    xj = [xj;1;1]\n",
    "    xv = [xv;0;0]\n",
    "    trm.X = sparse(xi,xj,xv)\n",
    "    trm.startPos = mme.mmePos\n",
    "    mme.mmePos  += trm.nLevels\n",
    "end\n",
    "\n",
    "function getRi(resVar::ResVar,sel::BitArray{1})\n",
    "    if haskey(resVar.RiDict,sel)\n",
    "        return resVar.RiDict[sel]\n",
    "    end\n",
    "    n = size(resVar.R0,1)\n",
    "    RZ = zeros(n,n)\n",
    "    RZ[sel,sel] = inv(resVar.R0[sel,sel])\n",
    "    resVar.RiDict[sel] = RZ\n",
    "    return RZ\n",
    "end\n",
    "\n",
    "function mkRi(mme::MME,df::DataFrame)\n",
    "    resVar = ResVar(mme.R,Dict())\n",
    "    tstMsng = !isna(df[mme.lhsVec[1]])\n",
    "    for i=2:size(mme.lhsVec,1)\n",
    "        tstMsng = [tstMsng !isna(df[mme.lhsVec[i]])]\n",
    "    end\n",
    "    n    = size(tstMsng,2)\n",
    "    nObs = size(tstMsng,1)\n",
    "    ii = Array(Int64,nObs*n^2)\n",
    "    jj = Array(Int64,nObs*n^2)\n",
    "    vv = Array(Float64,nObs*n^2)\n",
    "    pos = 1\n",
    "    for i=1:size(tstMsng,1)\n",
    "        sel = reshape(tstMsng[i,:],n)\n",
    "        Ri  = getRi(resVar,sel)\n",
    "        for ti=1:n\n",
    "            tii = (ti-1)*nObs + i\n",
    "            for tj=1:n\n",
    "                tjj = (tj-1)*nObs + i\n",
    "                ii[pos] = tii\n",
    "                jj[pos] = tjj\n",
    "                vv[pos] = Ri[ti,tj]\n",
    "                pos += 1\n",
    "            end\n",
    "        end         \n",
    "    end\n",
    "    return sparse(ii,jj,vv)\n",
    "end\n",
    "\n",
    "function getMME(mme::MME, df::DataFrame)\n",
    "    mme.mmePos = 1\n",
    "    for trm in mme.modelTerms\n",
    "        getData(trm,df,mme)\n",
    "        getX(trm,mme)\n",
    "    end\n",
    "    n   = size(mme.modelTerms,1)\n",
    "    trm = mme.modelTerms[1]\n",
    "    X   = trm.X\n",
    "    for i=2:n\n",
    "        trm = mme.modelTerms[i]\n",
    "        X = [X trm.X]\n",
    "    end\n",
    "    y = convert(Array,df[mme.lhsVec[1]],0.0)\n",
    "    for i=2:size(mme.lhsVec,1)\n",
    "        y    = [y; convert(Array,df[mme.lhsVec[i]],0.0)] \n",
    "    end\n",
    "    N  = size(y,1)\n",
    "    ii = 1:N\n",
    "    jj = fill(1,N)\n",
    "    vv = y\n",
    "    ySparse = sparse(ii,jj,vv)\n",
    "    nObs = size(df,1)\n",
    "    Ri = mkRi(mme,df)\n",
    "    mme.mmeLhs = X'Ri*X\n",
    "    mme.mmeRhs = X'Ri*ySparse\n",
    "    if mme.ped != 0\n",
    "        ii,jj,vv = PedModule.HAi(mme.ped)\n",
    "        HAi = sparse(ii,jj,vv)\n",
    "        mme.Ai = HAi'HAi\n",
    "        addA(mme::MME)\n",
    "    end   \n",
    "end\n",
    "\n",
    "function getNames(mme)\n",
    "    names = Array(AbstractString,0)\n",
    "    for trm in mme.modelTerms\n",
    "        for name in trm.names\n",
    "            push!(names,trm.trmStr*\": \"*name)\n",
    "        end\n",
    "    end\n",
    "    return names\n",
    "end  \n",
    "\n",
    "function covList(mme::MME, covStr::AbstractString)\n",
    "    covVec = split(covStr,\" \",keep=false) \n",
    "    mme.covVec = [symbol(i) for i in covVec]\n",
    "    nothing\n",
    "end\n",
    "\n",
    "function getSolJ(mme::MME, df::DataFrame)\n",
    "    if size(mme.mmeRhs)==() \n",
    "        getMME(mme,df)\n",
    "    end\n",
    "    p = size(mme.mmeRhs,1)\n",
    "    return [getNames(mme) Jacobi(mme.mmeLhs,fill(0.0,p),mme.mmeRhs,0.3,tol=0.000001)]\n",
    "end\n",
    "\n",
    "function getSolG(mme::MME, df::DataFrame)\n",
    "    if size(mme.mmeRhs)==() \n",
    "        getMME(mme,df)\n",
    "    end\n",
    "    p = size(mme.mmeRhs,1)\n",
    "    return [getNames(mme) GaussSeidel(mme.mmeLhs,fill(0.0,p),mme.mmeRhs,tol=0.000001)]\n",
    "end\n",
    "\n",
    "function setAsRandom(mme::MME,randomStr::AbstractString,ped::PedModule.Pedigree, G::Array{Float64,2})\n",
    "    pedTrmVec = split(randomStr,\" \",keep=false)\n",
    "    res = []\n",
    "    for trm in pedTrmVec\n",
    "        for (m,model) = enumerate(mme.modelVec)\n",
    "            strVec  = split(model,['=','+'])\n",
    "            strpVec = [strip(i) for i in strVec]\n",
    "            if trm in strpVec\n",
    "                res = [res;string(m)*\":\"*trm]\n",
    "            end\n",
    "        end\n",
    "    end\n",
    "    mme.pedTrmVec = res\n",
    "    mme.ped = ped\n",
    "    mme.Gi = inv(G)\n",
    "    nothing\n",
    "end\n",
    "\n",
    "function addA(mme::MME)\n",
    "    pedTrmVec = mme.pedTrmVec\n",
    "    for (i,trmi) = enumerate(pedTrmVec)\n",
    "        pedTrmi  = mme.modelTermDict[trmi]\n",
    "        startPosi  = pedTrmi.startPos\n",
    "        endPosi    = startPosi + pedTrmi.nLevels - 1\n",
    "        for (j,trmj) = enumerate(pedTrmVec)\n",
    "            pedTrmj  = mme.modelTermDict[trmj]\n",
    "            startPosj  = pedTrmj.startPos\n",
    "            endPosj    = startPosj + pedTrmj.nLevels - 1  \n",
    "            mme.mmeLhs[startPosi:endPosi,startPosj:endPosj] = \n",
    "            mme.mmeLhs[startPosi:endPosi,startPosj:endPosj] + mme.Ai*mme.Gi[i,j] \n",
    "        end\n",
    "    end\n",
    "end"
   ]
  },
  {
   "cell_type": "markdown",
   "metadata": {},
   "source": [
    "### One-Way Model "
   ]
  },
  {
   "cell_type": "code",
   "execution_count": 3,
   "metadata": {
    "collapsed": false
   },
   "outputs": [
    {
     "data": {
      "text/html": [
       "<table class=\"data-frame\"><tr><th></th><th>y1</th><th>y2</th><th>y3</th><th>trt</th></tr><tr><th>1</th><td>1.0</td><td>2.0</td><td>1.2</td><td>1</td></tr><tr><th>2</th><td>1.1</td><td>NA</td><td>3.1</td><td>1</td></tr><tr><th>3</th><td>0.9</td><td>1.9</td><td>NA</td><td>2</td></tr><tr><th>4</th><td>1.2</td><td>1.7</td><td>1.9</td><td>2</td></tr></table>"
      ],
      "text/plain": [
       "4x4 DataFrames.DataFrame\n",
       "| Row | y1  | y2  | y3  | trt |\n",
       "|-----|-----|-----|-----|-----|\n",
       "| 1   | 1.0 | 2.0 | 1.2 | 1   |\n",
       "| 2   | 1.1 | NA  | 3.1 | 1   |\n",
       "| 3   | 0.9 | 1.9 | NA  | 2   |\n",
       "| 4   | 1.2 | 1.7 | 1.9 | 2   |"
      ]
     },
     "execution_count": 3,
     "metadata": {},
     "output_type": "execute_result"
    }
   ],
   "source": [
    "df = readtable(\"../../data/MTData\", separator = ' ')"
   ]
  },
  {
   "cell_type": "code",
   "execution_count": 6,
   "metadata": {
    "collapsed": false
   },
   "outputs": [],
   "source": [
    "R0 = Array(Float64,1,1)\n",
    "R0[1,1] = 1.0\n",
    "models = \"y1 = intercept + trt\"\n",
    "mme = initMME(models,R0);"
   ]
  },
  {
   "cell_type": "code",
   "execution_count": 7,
   "metadata": {
    "collapsed": false
   },
   "outputs": [
    {
     "data": {
      "text/plain": [
       "3x2 Array{Any,2}:\n",
       " \"1:intercept: intercept\"  1.05\n",
       " \"1:trt: 1\"                0.0 \n",
       " \"1:trt: 2\"                0.0 "
      ]
     },
     "execution_count": 7,
     "metadata": {},
     "output_type": "execute_result"
    }
   ],
   "source": [
    "getSolG(mme, df)"
   ]
  },
  {
   "cell_type": "code",
   "execution_count": 8,
   "metadata": {
    "collapsed": false
   },
   "outputs": [
    {
     "data": {
      "text/plain": [
       "3-element Array{Float64,1}:\n",
       " 4.2\n",
       " 2.1\n",
       " 2.1"
      ]
     },
     "execution_count": 8,
     "metadata": {},
     "output_type": "execute_result"
    }
   ],
   "source": [
    "sol = GaussSeidel(mme.mmeLhs,fill(0.0,3),mme.mmeRhs,tol=0.000001)\n",
    "mme.mmeLhs*sol"
   ]
  },
  {
   "cell_type": "code",
   "execution_count": 9,
   "metadata": {
    "collapsed": false
   },
   "outputs": [
    {
     "data": {
      "text/plain": [
       "3x1 Array{Float64,2}:\n",
       " 4.2\n",
       " 2.1\n",
       " 2.1"
      ]
     },
     "execution_count": 9,
     "metadata": {},
     "output_type": "execute_result"
    }
   ],
   "source": [
    "full(mme.mmeRhs)"
   ]
  },
  {
   "cell_type": "code",
   "execution_count": 10,
   "metadata": {
    "collapsed": false
   },
   "outputs": [
    {
     "name": "stdout",
     "output_type": "stream",
     "text": [
      "at sample: 100"
     ]
    },
    {
     "data": {
      "text/plain": [
       "3-element Array{Float64,1}:\n",
       " 4.23291\n",
       " 2.06891\n",
       " 2.164  "
      ]
     },
     "execution_count": 10,
     "metadata": {},
     "output_type": "execute_result"
    }
   ],
   "source": [
    "nIter = 500\n",
    "solGibbs = Gibbs(mme.mmeLhs,sol,mme.mmeRhs,nIter)\n",
    "mme.mmeLhs*solGibbs"
   ]
  },
  {
   "cell_type": "code",
   "execution_count": 11,
   "metadata": {
    "collapsed": false,
    "scrolled": true
   },
   "outputs": [
    {
     "data": {
      "text/plain": [
       "3-element Array{Float64,1}:\n",
       " 4.21103\n",
       " 2.10786\n",
       " 2.10316"
      ]
     },
     "execution_count": 11,
     "metadata": {},
     "output_type": "execute_result"
    }
   ],
   "source": [
    "nIter = 50000\n",
    "solGibbs = Gibbs(mme.mmeLhs,sol,mme.mmeRhs,nIter,outFreq=10000)\n",
    "mme.mmeLhs*solGibbs"
   ]
  },
  {
   "cell_type": "markdown",
   "metadata": {},
   "source": [
    "### Animal Model"
   ]
  },
  {
   "cell_type": "code",
   "execution_count": 12,
   "metadata": {
    "collapsed": false
   },
   "outputs": [],
   "source": [
    "ped = PedModule.mkPed(\"../../data/sim.ped\");"
   ]
  },
  {
   "cell_type": "code",
   "execution_count": 13,
   "metadata": {
    "collapsed": false
   },
   "outputs": [
    {
     "name": "stdout",
     "output_type": "stream",
     "text": [
      "\n",
      "at sample: 200\n",
      "at sample: 300\n",
      "at sample: 400\n",
      "at sample: 500\n",
      "at sample: 10000\n",
      "at sample: 20000\n",
      "at sample: 30000\n",
      "at sample: 40000\n",
      "at sample: 50000\n"
     ]
    }
   ],
   "source": [
    "df2 = readtable(\"../../data/sim.ped\", separator = ' ', names = [:Animal,:y1,:y2]);"
   ]
  },
  {
   "cell_type": "code",
   "execution_count": 14,
   "metadata": {
    "collapsed": false
   },
   "outputs": [],
   "source": [
    "models = \"y1 = intercept + Animal;\n",
    "          y2 = intercept + Animal\"\n",
    "R = [10 2; 2 1.0]\n",
    "mme = initMME(models,R)\n",
    "G0 = [5 1;1 1.0]\n",
    "setAsRandom(mme,\"Animal\", ped,G0)"
   ]
  },
  {
   "cell_type": "code",
   "execution_count": 15,
   "metadata": {
    "collapsed": false
   },
   "outputs": [
    {
     "data": {
      "text/plain": [
       "8402"
      ]
     },
     "execution_count": 15,
     "metadata": {},
     "output_type": "execute_result"
    }
   ],
   "source": [
    "getMME(mme,df2)\n",
    "p = size(mme.mmeLhs,1)"
   ]
  },
  {
   "cell_type": "code",
   "execution_count": 21,
   "metadata": {
    "collapsed": false,
    "scrolled": false
   },
   "outputs": [
    {
     "name": "stdout",
     "output_type": "stream",
     "text": [
      "at iter: 200 1581.0035851586122\n",
      "at iter: 400 170.87950141129275\n",
      "at iter: 600 21.21668915080609\n",
      "at iter: 800 2.6993647574915616\n",
      "at iter: 1000 0.34486384635481165\n"
     ]
    }
   ],
   "source": [
    "sol = GaussSeidel(mme.mmeLhs,fill(0.0,p),mme.mmeRhs,tol=0.000001,outFreq=200);\n",
    "nothing"
   ]
  },
  {
   "cell_type": "code",
   "execution_count": 22,
   "metadata": {
    "collapsed": false
   },
   "outputs": [
    {
     "name": "stdout",
     "output_type": "stream",
     "text": [
      "at sample: 100\n",
      "at sample: 200\n",
      "at sample: 300\n",
      "at sample: 400\n",
      "at sample: 500"
     ]
    },
    {
     "data": {
      "text/plain": [
       "8402x2 Array{Float64,2}:\n",
       "    -7.26272e6      -7.26273e6\n",
       "    -0.0251322       0.0      \n",
       "     0.145149        0.0      \n",
       " -1682.95        -1683.0      \n",
       "     0.117183        0.0      \n",
       "    -0.191897        0.0      \n",
       " -1693.77        -1693.83     \n",
       "     0.0186654       0.0      \n",
       "     0.00421519      0.0      \n",
       " -1687.81        -1687.83     \n",
       "    -0.0398815       0.0      \n",
       "    -0.0596439       0.0      \n",
       " -1678.49        -1678.5      \n",
       "     ⋮                        \n",
       " 14898.0         14898.0      \n",
       " 13692.3         13692.3      \n",
       " 13527.6         13527.7      \n",
       " 14691.9         14692.0      \n",
       " 16093.6         16093.7      \n",
       " 14380.6         14380.7      \n",
       " 14474.8         14474.7      \n",
       " 14871.8         14871.7      \n",
       " 15291.8         15291.7      \n",
       " 13941.1         13941.0      \n",
       " 13526.1         13526.0      \n",
       " 13805.6         13805.7      "
      ]
     },
     "execution_count": 22,
     "metadata": {},
     "output_type": "execute_result"
    },
    {
     "name": "stdout",
     "output_type": "stream",
     "text": [
      "\n"
     ]
    }
   ],
   "source": [
    "nIter = 500\n",
    "solGibbs = Gibbs(mme.mmeLhs,sol,mme.mmeRhs,nIter)\n",
    "[mme.mmeLhs*solGibbs mme.mmeRhs]"
   ]
  }
 ],
 "metadata": {
  "kernelspec": {
   "display_name": "Julia 0.4.0",
   "language": "julia",
   "name": "julia-0.4"
  },
  "language_info": {
   "file_extension": ".jl",
   "mimetype": "application/julia",
   "name": "julia",
   "version": "0.4.0"
  }
 },
 "nbformat": 4,
 "nbformat_minor": 0
}
