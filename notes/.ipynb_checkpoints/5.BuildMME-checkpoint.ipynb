{
 "cells": [
  {
   "cell_type": "markdown",
   "metadata": {},
   "source": [
    "## Tools for building Henderson's Mixed Model Equations\n",
    "\n",
    "Here we will see how the mixed model equations (HMME) can be built given a data set and a model string. \n",
    "\n",
    "We will start by building the \"OLS\" part of the equations. "
   ]
  },
  {
   "cell_type": "code",
   "execution_count": 5,
   "metadata": {
    "collapsed": true
   },
   "outputs": [],
   "source": [
    "using DataFrames"
   ]
  },
  {
   "cell_type": "code",
   "execution_count": 6,
   "metadata": {
    "collapsed": false
   },
   "outputs": [
    {
     "data": {
      "text/plain": [
       "mkDict (generic function with 1 method)"
      ]
     },
     "execution_count": 6,
     "metadata": {},
     "output_type": "execute_result"
    }
   ],
   "source": [
    "#functions below are same as before\n",
    "function mkDict(a)\n",
    "    aUnique = unique(a)\n",
    "    d = Dict()\n",
    "    names = Array(Any,size(aUnique,1))\n",
    "    for (i,s) in enumerate(aUnique)\n",
    "        names[i] = s\n",
    "        d[s] = i\n",
    "    end\n",
    "    return d,names\n",
    "end"
   ]
  },
  {
   "cell_type": "markdown",
   "metadata": {},
   "source": [
    "### A small data set to test the tools"
   ]
  },
  {
   "cell_type": "code",
   "execution_count": 7,
   "metadata": {
    "collapsed": false
   },
   "outputs": [],
   "source": [
    "sex   = [\"s\",\"s\",\"s\",\"d\",\"d\",\"d\"]\n",
    "breed = [\"Angus\",\"Angus\",\"Hereford\",\"Hereford\",\"Angus\",\"Angus\"]\n",
    "age   = [\"40\",\"38\",\"38\",\"38\",\"40\",\"40\"];"
   ]
  },
  {
   "cell_type": "code",
   "execution_count": 8,
   "metadata": {
    "collapsed": false
   },
   "outputs": [
    {
     "data": {
      "text/html": [
       "<table class=\"data-frame\"><tr><th></th><th>sex</th><th>breed</th><th>age</th><th>y</th></tr><tr><th>1</th><td>s</td><td>Angus</td><td>40</td><td>-0.14</td></tr><tr><th>2</th><td>s</td><td>Angus</td><td>38</td><td>-0.179</td></tr><tr><th>3</th><td>s</td><td>Hereford</td><td>38</td><td>-0.295</td></tr><tr><th>4</th><td>d</td><td>Hereford</td><td>38</td><td>-1.177</td></tr><tr><th>5</th><td>d</td><td>Angus</td><td>40</td><td>1.192</td></tr><tr><th>6</th><td>d</td><td>Angus</td><td>40</td><td>0.157</td></tr></table>"
      ],
      "text/plain": [
       "6x4 DataFrames.DataFrame\n",
       "| Row | sex | breed      | age  | y      |\n",
       "|-----|-----|------------|------|--------|\n",
       "| 1   | \"s\" | \"Angus\"    | \"40\" | -0.14  |\n",
       "| 2   | \"s\" | \"Angus\"    | \"38\" | -0.179 |\n",
       "| 3   | \"s\" | \"Hereford\" | \"38\" | -0.295 |\n",
       "| 4   | \"d\" | \"Hereford\" | \"38\" | -1.177 |\n",
       "| 5   | \"d\" | \"Angus\"    | \"40\" | 1.192  |\n",
       "| 6   | \"d\" | \"Angus\"    | \"40\" | 0.157  |"
      ]
     },
     "execution_count": 8,
     "metadata": {},
     "output_type": "execute_result"
    }
   ],
   "source": [
    "df1 = DataFrame(sex=sex,breed=breed,age=age,y=round(randn(6),3))"
   ]
  },
  {
   "cell_type": "markdown",
   "metadata": {},
   "source": [
    "### Types and functions for MME"
   ]
  },
  {
   "cell_type": "code",
   "execution_count": 9,
   "metadata": {
    "collapsed": false
   },
   "outputs": [],
   "source": [
    "type ModelTerm \n",
    "    trmStr::AbstractString    #\"A*B\"          #\"A\"\n",
    "    nFactors::Int64           # 2             # 1\n",
    "    factors::Array{Symbol,1}  # :A, :B        # :A\n",
    "    data::Array{AbstractString,1}\n",
    "    X::SparseMatrixCSC{Float64,Int64}\n",
    "    names::Array{Any,1}\n",
    "end"
   ]
  },
  {
   "cell_type": "code",
   "execution_count": 10,
   "metadata": {
    "collapsed": false
   },
   "outputs": [],
   "source": [
    "type MME\n",
    "    modelEquation::AbstractString   #\"y = A + A*B\"\n",
    "    modelTerms::Array{ModelTerm,1}  #[modelTerm(\"A\") , modelTerm(\"A*B\")]\n",
    "    lhs::Symbol                     #:y \n",
    "    mmeLhs\n",
    "    mmeRhs\n",
    "end"
   ]
  },
  {
   "cell_type": "code",
   "execution_count": 11,
   "metadata": {
    "collapsed": false
   },
   "outputs": [
    {
     "data": {
      "text/plain": [
       "getTerm (generic function with 1 method)"
      ]
     },
     "execution_count": 11,
     "metadata": {},
     "output_type": "execute_result"
    }
   ],
   "source": [
    "function getTerm(trmStr) #\"A*B\" \n",
    "    trm = ModelTerm(trmStr,0,[],[],spzeros(0,0),[])\n",
    "    if length(trmStr)==1\n",
    "        trm.nFactors = 1\n",
    "        trm.factors  = [symbol(strip(trmStr))]\n",
    "    else\n",
    "        factorVec = split(trmStr,\"*\")     #\"A\" ,\"B\"\n",
    "        trm.nFactors = length(factorVec)  # 2\n",
    "        trm.factors = [symbol(strip(f)) for f in factorVec] #:A, :B\n",
    "    end\n",
    "    return trm\n",
    "end"
   ]
  },
  {
   "cell_type": "code",
   "execution_count": 12,
   "metadata": {
    "collapsed": false
   },
   "outputs": [
    {
     "data": {
      "text/plain": [
       "initMME (generic function with 1 method)"
      ]
     },
     "execution_count": 12,
     "metadata": {},
     "output_type": "execute_result"
    }
   ],
   "source": [
    "function initMME(modelEquation::AbstractString)  # \"y = A + A*B\"\n",
    "    if modelEquation==\"\"\n",
    "        error(\"modelEquation is empty\\n\")\n",
    "    end\n",
    "    lhsRhs = split(modelEquation,\"=\") # \"y\", \"A+A*B\"\n",
    "    lhs = symbol(strip(lhsRhs[1]))    # :y\n",
    "    rhs = strip(lhsRhs[2])            #\"A+A*B\" \n",
    "    rhsVec = split(rhs,\"+\")           #\"A\", \"A*B\"\n",
    "    modelTerms = [getTerm(strip(trmStr)) for trmStr in rhsVec]\n",
    "    return MME(modelEquation,modelTerms,lhs,0,0) #returns an MME object\n",
    "end "
   ]
  },
  {
   "cell_type": "code",
   "execution_count": 13,
   "metadata": {
    "collapsed": false
   },
   "outputs": [
    {
     "data": {
      "text/plain": [
       "getData (generic function with 1 method)"
      ]
     },
     "execution_count": 13,
     "metadata": {},
     "output_type": "execute_result"
    }
   ],
   "source": [
    "function getData(trm::ModelTerm,df::DataFrame) # modelterm(\"A*B\")   \n",
    "    nObs = size(df,1)\n",
    "    trm.data = Array(AbstractString,nObs)\n",
    "    myDf = df[trm.factors] #df[:A,:B]\n",
    "    for i=1:nObs #example: A1 B1\n",
    "        res = string(myDf[i,trm.nFactors]) #\"B1\"\n",
    "        for j = trm.nFactors-1:-1:1\n",
    "            res = string(myDf[i,j])*\" x \"*res # \"A1 X B1\"\n",
    "        end\n",
    "        trm.data[i] = res\n",
    "    end\n",
    "    end #data: [\"A1 X B1\", \"A1 X B2\", \"A1 X B1\".... ]"
   ]
  },
  {
   "cell_type": "code",
   "execution_count": 14,
   "metadata": {
    "collapsed": false
   },
   "outputs": [
    {
     "data": {
      "text/plain": [
       "getX (generic function with 1 method)"
      ]
     },
     "execution_count": 14,
     "metadata": {},
     "output_type": "execute_result"
    }
   ],
   "source": [
    "function getX(trm)\n",
    "    dict,trm.names  = mkDict(trm.data)\n",
    "    xj    = round(Int64,[dict[i] for i in trm.data]) #column index\n",
    "    xi    = 1:size(trm.data,1) #row index :  1: nObs\n",
    "    trm.X = sparse(xi,xj,1.0)  \n",
    "end"
   ]
  },
  {
   "cell_type": "code",
   "execution_count": 15,
   "metadata": {
    "collapsed": false
   },
   "outputs": [
    {
     "data": {
      "text/plain": [
       "getMME (generic function with 1 method)"
      ]
     },
     "execution_count": 15,
     "metadata": {},
     "output_type": "execute_result"
    }
   ],
   "source": [
    "function getMME(mme::MME, df::DataFrame)\n",
    "    for trm in mme.modelTerms #[modelTerm(\"A*B\"), modelTerm(\"A\")]\n",
    "        getData(trm,df)\n",
    "        getX(trm)\n",
    "    end\n",
    "    n   = size(mme.modelTerms,1)\n",
    "    trm = mme.modelTerms[1]\n",
    "    X   = trm.X\n",
    "    for i=2:n\n",
    "        trm = mme.modelTerms[i]\n",
    "        X = [X trm.X]\n",
    "    end\n",
    "    y      = convert(Array,df[mme.lhs]) #df[:y]\n",
    "    mme.mmeLhs = X'X\n",
    "    mme.mmeRhs = X'y\n",
    "    nothing\n",
    "end"
   ]
  },
  {
   "cell_type": "code",
   "execution_count": 16,
   "metadata": {
    "collapsed": false
   },
   "outputs": [
    {
     "data": {
      "text/plain": [
       "getNames (generic function with 1 method)"
      ]
     },
     "execution_count": 16,
     "metadata": {},
     "output_type": "execute_result"
    }
   ],
   "source": [
    "function getNames(mme)\n",
    "    names = Array(AbstractString,0)\n",
    "    for trm in mme.modelTerms\n",
    "        for name in trm.names\n",
    "            push!(names,trm.trmStr*\": \"*name)\n",
    "        end\n",
    "    end\n",
    "    return names\n",
    "end    "
   ]
  },
  {
   "cell_type": "markdown",
   "metadata": {},
   "source": [
    "### run it"
   ]
  },
  {
   "cell_type": "code",
   "execution_count": 17,
   "metadata": {
    "collapsed": false
   },
   "outputs": [
    {
     "data": {
      "text/html": [
       "<table class=\"data-frame\"><tr><th></th><th>sex</th><th>breed</th><th>age</th><th>y</th></tr><tr><th>1</th><td>s</td><td>Angus</td><td>40</td><td>-0.14</td></tr><tr><th>2</th><td>s</td><td>Angus</td><td>38</td><td>-0.179</td></tr><tr><th>3</th><td>s</td><td>Hereford</td><td>38</td><td>-0.295</td></tr><tr><th>4</th><td>d</td><td>Hereford</td><td>38</td><td>-1.177</td></tr><tr><th>5</th><td>d</td><td>Angus</td><td>40</td><td>1.192</td></tr><tr><th>6</th><td>d</td><td>Angus</td><td>40</td><td>0.157</td></tr></table>"
      ],
      "text/plain": [
       "6x4 DataFrames.DataFrame\n",
       "| Row | sex | breed      | age  | y      |\n",
       "|-----|-----|------------|------|--------|\n",
       "| 1   | \"s\" | \"Angus\"    | \"40\" | -0.14  |\n",
       "| 2   | \"s\" | \"Angus\"    | \"38\" | -0.179 |\n",
       "| 3   | \"s\" | \"Hereford\" | \"38\" | -0.295 |\n",
       "| 4   | \"d\" | \"Hereford\" | \"38\" | -1.177 |\n",
       "| 5   | \"d\" | \"Angus\"    | \"40\" | 1.192  |\n",
       "| 6   | \"d\" | \"Angus\"    | \"40\" | 0.157  |"
      ]
     },
     "execution_count": 17,
     "metadata": {},
     "output_type": "execute_result"
    }
   ],
   "source": [
    "df1"
   ]
  },
  {
   "cell_type": "code",
   "execution_count": 18,
   "metadata": {
    "collapsed": false
   },
   "outputs": [],
   "source": [
    "mme = initMME(\"y = sex + breed + sex*breed*age\");"
   ]
  },
  {
   "cell_type": "code",
   "execution_count": 19,
   "metadata": {
    "collapsed": false
   },
   "outputs": [],
   "source": [
    "getMME(mme,df1)"
   ]
  },
  {
   "cell_type": "code",
   "execution_count": 20,
   "metadata": {
    "collapsed": false,
    "scrolled": true
   },
   "outputs": [
    {
     "data": {
      "text/plain": [
       "9x2 Array{Any,2}:\n",
       " \"sex: s\"                            -0.614\n",
       " \"sex: d\"                             0.172\n",
       " \"breed: Angus\"                       1.03 \n",
       " \"breed: Hereford\"                   -1.472\n",
       " \"sex*breed*age: s x Angus x 40\"     -0.14 \n",
       " \"sex*breed*age: s x Angus x 38\"     -0.179\n",
       " \"sex*breed*age: s x Hereford x 38\"  -0.295\n",
       " \"sex*breed*age: d x Hereford x 38\"  -1.177\n",
       " \"sex*breed*age: d x Angus x 40\"      1.349"
      ]
     },
     "execution_count": 20,
     "metadata": {},
     "output_type": "execute_result"
    }
   ],
   "source": [
    "[getNames(mme) mme.mmeRhs]"
   ]
  }
 ],
 "metadata": {
  "kernelspec": {
   "display_name": "Julia 0.4.0",
   "language": "julia",
   "name": "julia-0.4"
  },
  "language_info": {
   "file_extension": ".jl",
   "mimetype": "application/julia",
   "name": "julia",
   "version": "0.4.0"
  }
 },
 "nbformat": 4,
 "nbformat_minor": 0
}
