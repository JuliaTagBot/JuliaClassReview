{
 "cells": [
  {
   "cell_type": "markdown",
   "metadata": {},
   "source": [
    "## Tools for building Henderson's Mixed Model Equations\n",
    "\n",
    "Here we will see how the mixed model equations (HMME) can be built given a data set and a model string. \n"
   ]
  },
  {
   "cell_type": "code",
   "execution_count": 19,
   "metadata": {
    "collapsed": false
   },
   "outputs": [],
   "source": [
    "using PedModule"
   ]
  },
  {
   "cell_type": "code",
   "execution_count": 20,
   "metadata": {
    "collapsed": false
   },
   "outputs": [
    {
     "name": "stdout",
     "output_type": "stream",
     "text": [
      "S1 0 0\n",
      "D1 0 0\n",
      "O1 S1 D1\n",
      "O2 S1 D1\n",
      "O3 S1 D1\n"
     ]
    }
   ],
   "source": [
    ";cat ../data/small.ped"
   ]
  },
  {
   "cell_type": "code",
   "execution_count": 21,
   "metadata": {
    "collapsed": false
   },
   "outputs": [],
   "source": [
    "ped = PedModule.mkPed(\"../data/small.ped\");"
   ]
  },
  {
   "cell_type": "code",
   "execution_count": 22,
   "metadata": {
    "collapsed": false
   },
   "outputs": [
    {
     "data": {
      "text/plain": [
       "Dict{Any,Any} with 5 entries:\n",
       "  \"O1\" => PedModule.PedNode(3,\"S1\",\"D1\",0.0)\n",
       "  \"S1\" => PedModule.PedNode(1,\"0\",\"0\",0.0)\n",
       "  \"O3\" => PedModule.PedNode(4,\"S1\",\"D1\",0.0)\n",
       "  \"D1\" => PedModule.PedNode(2,\"0\",\"0\",0.0)\n",
       "  \"O2\" => PedModule.PedNode(5,\"S1\",\"D1\",0.0)"
      ]
     },
     "execution_count": 22,
     "metadata": {},
     "output_type": "execute_result"
    }
   ],
   "source": [
    "ped.idMap"
   ]
  },
  {
   "cell_type": "code",
   "execution_count": 23,
   "metadata": {
    "collapsed": false
   },
   "outputs": [],
   "source": [
    "ii,jj,vv = PedModule.HAi(ped);"
   ]
  },
  {
   "cell_type": "markdown",
   "metadata": {},
   "source": [
    "### A small data set to test the tools"
   ]
  },
  {
   "cell_type": "code",
   "execution_count": 24,
   "metadata": {
    "collapsed": false
   },
   "outputs": [],
   "source": [
    "A = [1,1,1,1]\n",
    "B = [\"S1\",\"D1\",\"O1\",\"O3\"]\n",
    "y = [100.0, 50.0, 150.0, 40.0];"
   ]
  },
  {
   "cell_type": "code",
   "execution_count": 25,
   "metadata": {
    "collapsed": true
   },
   "outputs": [],
   "source": [
    "using DataFrames"
   ]
  },
  {
   "cell_type": "code",
   "execution_count": 26,
   "metadata": {
    "collapsed": false,
    "scrolled": true
   },
   "outputs": [
    {
     "data": {
      "text/html": [
       "<table class=\"data-frame\"><tr><th></th><th>intercept</th><th>Animal</th><th>y</th></tr><tr><th>1</th><td>1</td><td>S1</td><td>100.0</td></tr><tr><th>2</th><td>1</td><td>D1</td><td>50.0</td></tr><tr><th>3</th><td>1</td><td>O1</td><td>150.0</td></tr><tr><th>4</th><td>1</td><td>O3</td><td>40.0</td></tr></table>"
      ],
      "text/plain": [
       "4x3 DataFrames.DataFrame\n",
       "| Row | intercept | Animal | y     |\n",
       "|-----|-----------|--------|-------|\n",
       "| 1   | 1         | \"S1\"   | 100.0 |\n",
       "| 2   | 1         | \"D1\"   | 50.0  |\n",
       "| 3   | 1         | \"O1\"   | 150.0 |\n",
       "| 4   | 1         | \"O3\"   | 40.0  |"
      ]
     },
     "execution_count": 26,
     "metadata": {},
     "output_type": "execute_result"
    }
   ],
   "source": [
    "df1 = DataFrame(intercept=A,Animal=B,y=y)"
   ]
  },
  {
   "cell_type": "markdown",
   "metadata": {},
   "source": [
    "### Data with repeated measures"
   ]
  },
  {
   "cell_type": "code",
   "execution_count": 27,
   "metadata": {
    "collapsed": false
   },
   "outputs": [
    {
     "data": {
      "text/html": [
       "<table class=\"data-frame\"><tr><th></th><th>Animal</th><th>Age</th><th>y</th></tr><tr><th>1</th><td>S1</td><td>1</td><td>-0.9617954089052853</td></tr><tr><th>2</th><td>S1</td><td>2</td><td>0.8249427426128066</td></tr><tr><th>3</th><td>S1</td><td>3</td><td>-1.1747955399207017</td></tr><tr><th>4</th><td>D1</td><td>1</td><td>0.7163721971388249</td></tr><tr><th>5</th><td>D1</td><td>2</td><td>0.24188675433016413</td></tr><tr><th>6</th><td>D1</td><td>3</td><td>-0.6291002918378739</td></tr><tr><th>7</th><td>O1</td><td>1</td><td>-0.2843437742928347</td></tr><tr><th>8</th><td>O1</td><td>2</td><td>-0.5608572577791728</td></tr><tr><th>9</th><td>O1</td><td>3</td><td>0.784594990562518</td></tr><tr><th>10</th><td>O3</td><td>1</td><td>0.38710404423722944</td></tr><tr><th>11</th><td>O3</td><td>2</td><td>0.09352660073232544</td></tr><tr><th>12</th><td>O3</td><td>3</td><td>-0.3368346797894377</td></tr></table>"
      ],
      "text/plain": [
       "12x3 DataFrames.DataFrame\n",
       "| Row | Animal | Age | y         |\n",
       "|-----|--------|-----|-----------|\n",
       "| 1   | \"S1\"   | 1   | -0.961795 |\n",
       "| 2   | \"S1\"   | 2   | 0.824943  |\n",
       "| 3   | \"S1\"   | 3   | -1.1748   |\n",
       "| 4   | \"D1\"   | 1   | 0.716372  |\n",
       "| 5   | \"D1\"   | 2   | 0.241887  |\n",
       "| 6   | \"D1\"   | 3   | -0.6291   |\n",
       "| 7   | \"O1\"   | 1   | -0.284344 |\n",
       "| 8   | \"O1\"   | 2   | -0.560857 |\n",
       "| 9   | \"O1\"   | 3   | 0.784595  |\n",
       "| 10  | \"O3\"   | 1   | 0.387104  |\n",
       "| 11  | \"O3\"   | 2   | 0.0935266 |\n",
       "| 12  | \"O3\"   | 3   | -0.336835 |"
      ]
     },
     "execution_count": 27,
     "metadata": {},
     "output_type": "execute_result"
    }
   ],
   "source": [
    "Animal = repeat(B,inner=[3])\n",
    "Age = repmat([1,2,3],4)\n",
    "intercept = ones(12,1)\n",
    "df2 = DataFrame(Animal=Animal,Age=Age,y=randn(12))"
   ]
  },
  {
   "cell_type": "markdown",
   "metadata": {},
   "source": [
    "### Data with maternal effect"
   ]
  },
  {
   "cell_type": "code",
   "execution_count": 28,
   "metadata": {
    "collapsed": false
   },
   "outputs": [
    {
     "data": {
      "text/html": [
       "<table class=\"data-frame\"><tr><th></th><th>intercept</th><th>Animal</th><th>y</th><th>mat</th></tr><tr><th>1</th><td>1</td><td>O1</td><td>150.0</td><td>D1</td></tr><tr><th>2</th><td>1</td><td>O3</td><td>40.0</td><td>D1</td></tr></table>"
      ],
      "text/plain": [
       "2x4 DataFrames.DataFrame\n",
       "| Row | intercept | Animal | y     | mat  |\n",
       "|-----|-----------|--------|-------|------|\n",
       "| 1   | 1         | \"O1\"   | 150.0 | \"D1\" |\n",
       "| 2   | 1         | \"O3\"   | 40.0  | \"D1\" |"
      ]
     },
     "execution_count": 28,
     "metadata": {},
     "output_type": "execute_result"
    }
   ],
   "source": [
    "df3 = [df1[3:4,:]  DataFrame(mat = [\"D1\",\"D1\"])]"
   ]
  },
  {
   "cell_type": "code",
   "execution_count": 29,
   "metadata": {
    "collapsed": true
   },
   "outputs": [],
   "source": [
    "include(\"../MME.jl/solver.jl\");"
   ]
  },
  {
   "cell_type": "markdown",
   "metadata": {},
   "source": [
    "### <font color=\"red\"> types and functions below are same (or very similar) as before.</font>"
   ]
  },
  {
   "cell_type": "code",
   "execution_count": 30,
   "metadata": {
    "collapsed": false
   },
   "outputs": [
    {
     "data": {
      "text/plain": [
       "getSolG (generic function with 1 method)"
      ]
     },
     "execution_count": 30,
     "metadata": {},
     "output_type": "execute_result"
    }
   ],
   "source": [
    "function mkDict(a)\n",
    "    aUnique = unique(a)\n",
    "    d = Dict()\n",
    "    names = Array(Any,size(aUnique,1))\n",
    "    for (i,s) in enumerate(aUnique)\n",
    "        names[i] = s\n",
    "        d[s] = i\n",
    "    end\n",
    "    return d,names\n",
    "end\n",
    "\n",
    "function getNames(mme)\n",
    "    names = Array(AbstractString,0)\n",
    "    for trm in mme.modelTerms\n",
    "        for name in trm.names\n",
    "            push!(names,trm.trmStr*\": \"*name)\n",
    "        end\n",
    "    end\n",
    "    return names\n",
    "end  \n",
    "\n",
    "function getTerm(trmStr) #only declaration of trm is changed\n",
    "    trm = ModelTerm(trmStr,0,[],[],[],0,0,spzeros(0,0),[])\n",
    "    factorVec = split(trmStr,\"*\")\n",
    "    trm.nFactors = length(factorVec)\n",
    "    trm.factors = [symbol(strip(f)) for f in factorVec]\n",
    "    return trm\n",
    "end\n",
    "\n",
    "function initMME(modelEquation::AbstractString) #Difference: made modelTerms into a dictionary\n",
    "    if modelEquation==\"\"\n",
    "        error(\"modelEquation is empty\\n\")\n",
    "    end\n",
    "    lhsRhs = split(modelEquation,\"=\")\n",
    "    lhs = symbol(strip(lhsRhs[1]))\n",
    "    rhs = strip(lhsRhs[2])\n",
    "    rhsVec = split(rhs,\"+\")    \n",
    "    dict = Dict{AbstractString,ModelTerm}()\n",
    "    modelTerms = [getTerm(strip(trmStr)) for trmStr in rhsVec]\n",
    "    for (i,trm) = enumerate(modelTerms)\n",
    "        dict[trm.trmStr] = modelTerms[i]\n",
    "    end    \n",
    "    return MME(modelEquation,modelTerms,dict,lhs,[],[],0,0,0,Array(Float64,1,1),0,1)\n",
    "end \n",
    "\n",
    "function getData(trm,df::DataFrame,mme::MME)\n",
    "    nObs = size(df,1)\n",
    "    trm.str = Array(AbstractString,nObs)\n",
    "    trm.val = Array(Float64,nObs)\n",
    "    \n",
    "    if trm.factors[1] == :intercept ##modified from Melanie's HW ##new\n",
    "        str = fill(string(trm.factors[1]),nObs) \n",
    "        val = fill(1.0,nObs)\n",
    "        trm.str = str\n",
    "        trm.val = val\n",
    "        return\n",
    "    end\n",
    "    \n",
    "    myDf = df[trm.factors]   \n",
    "        \n",
    "    if trm.factors[1] in mme.covVec\n",
    "        str = fill(string(trm.factors[1]),nObs)\n",
    "        val = df[trm.factors[1]]\n",
    "    else\n",
    "        str = [string(i) for i in df[trm.factors[1]]]\n",
    "        val = fill(1.0,nObs)\n",
    "    end\n",
    "    for i=2:trm.nFactors\n",
    "        if trm.factors[i] in mme.covVec\n",
    "            str = str .* fill(\" x \"*string(trm.factors[i]),nObs)\n",
    "            val = val .* df[trm.factors[i]]\n",
    "        else\n",
    "            str = str .* fill(\" x \",nObs) .* [string(j) for j in df[trm.factors[i]]]\n",
    "            val = val .* fill(1.0,nObs)\n",
    "        end\n",
    "    end\n",
    "    trm.str = str\n",
    "    trm.val = val\n",
    "end\n",
    "\n",
    "function covList(mme::MME, covStr::AbstractString)\n",
    "    covVec = split(covStr,\" \",keep=false) \n",
    "    mme.covVec = [symbol(i) for i in covVec]\n",
    "    nothing\n",
    "end\n",
    "\n",
    "function getSolJ(mme::MME, df::DataFrame)\n",
    "    if size(mme.mmeRhs)==() \n",
    "        getMME(mme,df)\n",
    "    end\n",
    "    p = size(mme.mmeRhs,1)\n",
    "    return [getNames(mme) Jacobi(mme.mmeLhs,fill(0.0,p),mme.mmeRhs,0.3,tol=0.000001)]\n",
    "end\n",
    "\n",
    "function getSolG(mme::MME, df::DataFrame)\n",
    "    if size(mme.mmeRhs)==() \n",
    "        getMME(mme,df)\n",
    "    end\n",
    "    p = size(mme.mmeRhs,1)\n",
    "    return [getNames(mme) GaussSeidel(mme.mmeLhs,fill(0.0,p),mme.mmeRhs,tol=0.000001)]\n",
    "end"
   ]
  },
  {
   "cell_type": "markdown",
   "metadata": {},
   "source": [
    "### Types"
   ]
  },
  {
   "cell_type": "code",
   "execution_count": 31,
   "metadata": {
    "collapsed": true
   },
   "outputs": [],
   "source": [
    "type TermStrVal\n",
    "    str::AbstractString\n",
    "    value::Float64\n",
    "end\n",
    "\n",
    "type TermLvlVal\n",
    "    level::AbstractString\n",
    "    value::Float64\n",
    "end\n",
    "\n",
    "type ModelTerm \n",
    "    trmStr::AbstractString\n",
    "    nFactors::Int64\n",
    "    factors::Array{Symbol,1}\n",
    "    str::Array{AbstractString,1}            # used to store the data for this term as strings\n",
    "    val::Array{Float64,1}\n",
    "    startPos::Int64                         # start pos in HMME\n",
    "    nLevels::Int64                           \n",
    "    X::SparseMatrixCSC{Float64,Int64}\n",
    "    names::Array{Any,1}\n",
    "end\n",
    "\n",
    "type MME\n",
    "    modelEquation::AbstractString\n",
    "    modelTerms::Array{ModelTerm,1}\n",
    "    modelTermDict::Dict{AbstractString,ModelTerm}\n",
    "    lhs::Symbol\n",
    "    covVec::Array{Symbol,1}\n",
    "    pedTrmVec::Array{AbstractString,1}\n",
    "    mmeLhs\n",
    "    mmeRhs\n",
    "    ped\n",
    "    Gi::Array{Float64,2}\n",
    "    Ai\n",
    "    mmePos::Int64\n",
    "end"
   ]
  },
  {
   "cell_type": "markdown",
   "metadata": {},
   "source": [
    "### Functions"
   ]
  },
  {
   "cell_type": "code",
   "execution_count": 32,
   "metadata": {
    "collapsed": false
   },
   "outputs": [
    {
     "data": {
      "text/plain": [
       "getX (generic function with 1 method)"
      ]
     },
     "execution_count": 32,
     "metadata": {},
     "output_type": "execute_result"
    }
   ],
   "source": [
    "getFactor1(str) = [strip(i) for i in split(str,\"*\")][1]\n",
    "\n",
    "function getX(trm::ModelTerm,mme::MME)\n",
    "    pedSize = 0\n",
    "    nObs  = size(trm.str,1)\n",
    "    if trm.trmStr in mme.pedTrmVec #\"Animal\"\n",
    "        trm.names   = PedModule.getIDs(mme.ped)\n",
    "        trm.nLevels = length(mme.ped.idMap)\n",
    "        xj = round(Int64,[mme.ped.idMap[getFactor1(i)].seqID for i in trm.str]) #column index\n",
    "    else\n",
    "        dict,trm.names  = mkDict(trm.str)\n",
    "        trm.nLevels     = length(dict)\n",
    "        xj    =  round(Int64,[dict[i] for i in trm.str])\n",
    "    end\n",
    "    xi    = 1:nObs  #row index \n",
    "    xv    = trm.val #value\n",
    "    if mme.ped!=0 #Because some animals in pedigree may not in the data\n",
    "        pedSize = length(mme.ped.idMap)\n",
    "        if trm.trmStr in mme.pedTrmVec\n",
    "            # This is to ensure the X matrix for \n",
    "            # additive effect has the correct number of columns\n",
    "            ii = 1         # adding a zero to\n",
    "            jj = pedSize   # the last column in row 1\n",
    "            vv = [0.0]\n",
    "            xi = [xi;ii]\n",
    "            xj = [xj;jj]\n",
    "            xv = [xv;vv]\n",
    "        end\n",
    "    end  \n",
    "    trm.X = sparse(xi,xj,xv)\n",
    "    trm.startPos = mme.mmePos\n",
    "    mme.mmePos  += trm.nLevels\n",
    "end"
   ]
  },
  {
   "cell_type": "code",
   "execution_count": 33,
   "metadata": {
    "collapsed": false
   },
   "outputs": [
    {
     "data": {
      "text/plain": [
       "getMME (generic function with 1 method)"
      ]
     },
     "execution_count": 33,
     "metadata": {},
     "output_type": "execute_result"
    }
   ],
   "source": [
    "function getMME(mme::MME, df::DataFrame)\n",
    "    for trm in mme.modelTerms\n",
    "        getData(trm,df,mme)\n",
    "        getX(trm,mme)\n",
    "    end\n",
    "    n   = size(mme.modelTerms,1)\n",
    "    trm = mme.modelTerms[1]\n",
    "    X   = trm.X\n",
    "    for i=2:n\n",
    "        trm = mme.modelTerms[i]\n",
    "        X = [X trm.X]\n",
    "    end\n",
    "    y    = df[mme.lhs]\n",
    "    nObs = size(y,1)\n",
    "    ii = 1:nObs\n",
    "    jj = fill(1,nObs)\n",
    "    vv = y\n",
    "    nRowsX = size(X,1)\n",
    "    if nRowsX > nObs  ###??????\n",
    "        ii = [ii,nRowsX]\n",
    "        jj = [jj,1]\n",
    "        vv = [vv,0.0]\n",
    "    end\n",
    "    ySparse = sparse(ii,jj,vv)\n",
    "    mme.mmeLhs = X'X\n",
    "    mme.mmeRhs = X'ySparse\n",
    "    if mme.ped != 0\n",
    "        ii,jj,vv = PedModule.HAi(mme.ped)#cholesky??\n",
    "        HAi = sparse(ii,jj,vv)\n",
    "        mme.Ai = HAi'HAi\n",
    "        addA(mme::MME)\n",
    "    end\n",
    "end"
   ]
  },
  {
   "cell_type": "code",
   "execution_count": 34,
   "metadata": {
    "collapsed": false
   },
   "outputs": [
    {
     "data": {
      "text/plain": [
       "setAsRandom (generic function with 1 method)"
      ]
     },
     "execution_count": 34,
     "metadata": {},
     "output_type": "execute_result"
    }
   ],
   "source": [
    "function setAsRandom(mme::MME,randomStr::AbstractString,ped::PedModule.Pedigree, G::Array{Float64,2})\n",
    "    mme.pedTrmVec = split(randomStr,\" \",keep=false)\n",
    "    mme.ped = ped\n",
    "    mme.Gi = inv(G)\n",
    "    nothing\n",
    "end"
   ]
  },
  {
   "cell_type": "code",
   "execution_count": 35,
   "metadata": {
    "collapsed": false
   },
   "outputs": [
    {
     "data": {
      "text/plain": [
       "addA (generic function with 1 method)"
      ]
     },
     "execution_count": 35,
     "metadata": {},
     "output_type": "execute_result"
    }
   ],
   "source": [
    "function addA(mme::MME)\n",
    "    pedTrmVec = mme.pedTrmVec\n",
    "    #pedTrm = mme.modelTermDict[mme.pedTrmVec[1]]\n",
    "    for (i,trmi) = enumerate(pedTrmVec)\n",
    "        pedTrmi  = mme.modelTermDict[trmi]\n",
    "        startPosi  = pedTrmi.startPos\n",
    "        endPosi    = startPosi + pedTrmi.nLevels - 1\n",
    "        for (j,trmj) = enumerate(pedTrmVec)\n",
    "            pedTrmj  = mme.modelTermDict[trmj]\n",
    "            startPosj  = pedTrmj.startPos\n",
    "            endPosj    = startPosj + pedTrmj.nLevels - 1       \n",
    "            mme.mmeLhs[startPosi:endPosi,startPosj:endPosj] = \n",
    "            mme.mmeLhs[startPosi:endPosi,startPosj:endPosj] + mme.Ai*mme.Gi[i,j] \n",
    "        end\n",
    "    end\n",
    "end"
   ]
  },
  {
   "cell_type": "code",
   "execution_count": 36,
   "metadata": {
    "collapsed": false
   },
   "outputs": [],
   "source": [
    "mme = initMME(\"y = intercept + Age + Animal + Animal*Age\")\n",
    "covList(mme,\"Age\")\n",
    "nothing"
   ]
  },
  {
   "cell_type": "code",
   "execution_count": 37,
   "metadata": {
    "collapsed": false
   },
   "outputs": [],
   "source": [
    "setAsRandom(mme,\"Animal\",ped,reshape([1.0],1,1))"
   ]
  },
  {
   "cell_type": "code",
   "execution_count": 38,
   "metadata": {
    "collapsed": false,
    "scrolled": false
   },
   "outputs": [
    {
     "name": "stdout",
     "output_type": "stream",
     "text": [
      "10 0.001125231958816617\n",
      "20 0.00035305477708437623\n",
      "30 0.00012027103191951446\n",
      "40 4.111502780379346e-5\n",
      "50 1.4057362569910607e-5\n",
      "60 4.806280379601264e-6\n",
      "70 1.6432905644042421e-6\n"
     ]
    }
   ],
   "source": [
    "resG = getSolG(mme,df2);"
   ]
  },
  {
   "cell_type": "code",
   "execution_count": 40,
   "metadata": {
    "collapsed": false,
    "scrolled": true
   },
   "outputs": [
    {
     "ename": "LoadError",
     "evalue": "LoadError: KeyError: S1 x Age not found\nwhile loading In[40], in expression starting on line 5",
     "output_type": "error",
     "traceback": [
      "LoadError: KeyError: S1 x Age not found\nwhile loading In[40], in expression starting on line 5",
      "",
      " in getindex at dict.jl:718",
      " in getX at In[32]:9",
      " in getMME at In[33]:4",
      " in getSolG at In[30]:97"
     ]
    }
   ],
   "source": [
    "mme3 = initMME(\"y = intercept + Age + Animal + Animal*Age\")\n",
    "covList(mme3,\"Age\")\n",
    "G = [1 0.1; 0.1 1.0]\n",
    "setAsRandom(mme3,\"Animal Animal*Age\",ped,G)\n",
    "resG = getSolG(mme3,df2);"
   ]
  },
  {
   "cell_type": "code",
   "execution_count": 42,
   "metadata": {
    "collapsed": false
   },
   "outputs": [
    {
     "name": "stdout",
     "output_type": "stream",
     "text": [
      "10 2.584416224498189e-5\n"
     ]
    }
   ],
   "source": [
    "mme3 = initMME(\"y = intercept + Age + Animal + Animal*Age\")\n",
    "#covList(mme3,\"Age\")\n",
    "G = [1 0.1; 0.1 1.0]\n",
    "setAsRandom(mme3,\"Animal\",ped,reshape([1.0],1,1))\n",
    "resG = getSolG(mme3,df2);\n",
    "round(full(mme3.mmeLhs),1);"
   ]
  },
  {
   "cell_type": "code",
   "execution_count": 43,
   "metadata": {
    "collapsed": false,
    "scrolled": true
   },
   "outputs": [
    {
     "data": {
      "text/plain": [
       "11x2 Array{Any,2}:\n",
       " \"intercept: intercept\"   95.0        \n",
       " \"Animal: S1\"              0.0        \n",
       " \"Animal: D1\"              0.0        \n",
       " \"Animal: O1\"             18.3333     \n",
       " \"Animal: O3\"            -18.3333     \n",
       " \"Animal: O2\"              0.0        \n",
       " \"mat: S1\"                 1.75859e-16\n",
       " \"mat: D1\"                 0.0        \n",
       " \"mat: O1\"                 1.83333    \n",
       " \"mat: O3\"                -1.83333    \n",
       " \"mat: O2\"                 8.79297e-17"
      ]
     },
     "execution_count": 43,
     "metadata": {},
     "output_type": "execute_result"
    }
   ],
   "source": [
    "mme = initMME(\"y = intercept + Animal + mat\")\n",
    "G = [1 0.1; 0.1 1.0]\n",
    "setAsRandom(mme,\"Animal mat\",ped,G)\n",
    "resG = getSolG(mme,df3)"
   ]
  }
 ],
 "metadata": {
  "kernelspec": {
   "display_name": "Julia 0.4.0",
   "language": "julia",
   "name": "julia-0.4"
  },
  "language_info": {
   "file_extension": ".jl",
   "mimetype": "application/julia",
   "name": "julia",
   "version": "0.4.0"
  }
 },
 "nbformat": 4,
 "nbformat_minor": 0
}
